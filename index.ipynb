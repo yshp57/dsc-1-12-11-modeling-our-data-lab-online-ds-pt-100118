{
 "cells": [
  {
   "cell_type": "markdown",
   "metadata": {},
   "source": [
    "# Modeling Our Data - Lab"
   ]
  },
  {
   "cell_type": "markdown",
   "metadata": {},
   "source": [
    "## Introduction \n",
    "\n",
    "In this lab we'll perform a full linear regression on our data. We'll take a stepwise approach and we'll try to improve our model as we go."
   ]
  },
  {
   "cell_type": "markdown",
   "metadata": {},
   "source": [
    "## Objectives\n",
    "You will be able to:\n",
    "\n",
    "* Remove predictors with p-values too high and refit the model\n",
    "* Examine and interpret the model results\n",
    "* Split data into training and testing sets\n",
    "* Fit a regression model to the data set using statsmodel library\n"
   ]
  },
  {
   "cell_type": "markdown",
   "metadata": {},
   "source": [
    "## Build single linear regression models\n",
    "\n",
    "From the previous steps, it is pretty clear that we have quite a few predictors, but there are some issues with them. Linearity with the target \"Weekly_Sales\" wasn't apparent. If that's the case, it's always smart to start small, and go ahead and build linear regression models with just one input at the time. Somewhat like what we've done in section 10, let's look at some statistics for single linear regression models for all our *continuous* variables with the outcome.\n",
    "\n",
    "**Note: for now, we will not use holdout validation, as we're just trying to gauge interpretation and a sense of predictive capacity for each of the candidate predictors**"
   ]
  },
  {
   "cell_type": "markdown",
   "metadata": {},
   "source": [
    "### Load the cleaned dataset \"walmart_dataset.csv\", and check its contents "
   ]
  },
  {
   "cell_type": "code",
   "execution_count": 1,
   "metadata": {},
   "outputs": [
    {
     "data": {
      "text/html": [
       "<div>\n",
       "<style scoped>\n",
       "    .dataframe tbody tr th:only-of-type {\n",
       "        vertical-align: middle;\n",
       "    }\n",
       "\n",
       "    .dataframe tbody tr th {\n",
       "        vertical-align: top;\n",
       "    }\n",
       "\n",
       "    .dataframe thead th {\n",
       "        text-align: right;\n",
       "    }\n",
       "</style>\n",
       "<table border=\"1\" class=\"dataframe\">\n",
       "  <thead>\n",
       "    <tr style=\"text-align: right;\">\n",
       "      <th></th>\n",
       "      <th>Weekly_Sales</th>\n",
       "      <th>IsHoliday</th>\n",
       "      <th>Size</th>\n",
       "      <th>Temperature</th>\n",
       "      <th>Fuel_Price</th>\n",
       "      <th>CPI</th>\n",
       "      <th>Unemployment</th>\n",
       "      <th>Store_1</th>\n",
       "      <th>Store_10</th>\n",
       "      <th>Store_2</th>\n",
       "      <th>...</th>\n",
       "      <th>binned_markdown_4_41-60%</th>\n",
       "      <th>binned_markdown_4_61-80%</th>\n",
       "      <th>binned_markdown_4_81-100%</th>\n",
       "      <th>binned_markdown_4_NaN</th>\n",
       "      <th>binned_markdown_5_0-20%</th>\n",
       "      <th>binned_markdown_5_21-40%</th>\n",
       "      <th>binned_markdown_5_41-60%</th>\n",
       "      <th>binned_markdown_5_61-80%</th>\n",
       "      <th>binned_markdown_5_81-100%</th>\n",
       "      <th>binned_markdown_5_NaN</th>\n",
       "    </tr>\n",
       "  </thead>\n",
       "  <tbody>\n",
       "    <tr>\n",
       "      <th>0</th>\n",
       "      <td>24924.50</td>\n",
       "      <td>False</td>\n",
       "      <td>0.283436</td>\n",
       "      <td>-1.301205</td>\n",
       "      <td>-1.56024</td>\n",
       "      <td>0.40349</td>\n",
       "      <td>0.913194</td>\n",
       "      <td>1</td>\n",
       "      <td>0</td>\n",
       "      <td>0</td>\n",
       "      <td>...</td>\n",
       "      <td>0</td>\n",
       "      <td>0</td>\n",
       "      <td>0</td>\n",
       "      <td>1</td>\n",
       "      <td>0</td>\n",
       "      <td>0</td>\n",
       "      <td>0</td>\n",
       "      <td>0</td>\n",
       "      <td>0</td>\n",
       "      <td>1</td>\n",
       "    </tr>\n",
       "    <tr>\n",
       "      <th>1</th>\n",
       "      <td>50605.27</td>\n",
       "      <td>False</td>\n",
       "      <td>0.283436</td>\n",
       "      <td>-1.301205</td>\n",
       "      <td>-1.56024</td>\n",
       "      <td>0.40349</td>\n",
       "      <td>0.913194</td>\n",
       "      <td>1</td>\n",
       "      <td>0</td>\n",
       "      <td>0</td>\n",
       "      <td>...</td>\n",
       "      <td>0</td>\n",
       "      <td>0</td>\n",
       "      <td>0</td>\n",
       "      <td>1</td>\n",
       "      <td>0</td>\n",
       "      <td>0</td>\n",
       "      <td>0</td>\n",
       "      <td>0</td>\n",
       "      <td>0</td>\n",
       "      <td>1</td>\n",
       "    </tr>\n",
       "    <tr>\n",
       "      <th>2</th>\n",
       "      <td>13740.12</td>\n",
       "      <td>False</td>\n",
       "      <td>0.283436</td>\n",
       "      <td>-1.301205</td>\n",
       "      <td>-1.56024</td>\n",
       "      <td>0.40349</td>\n",
       "      <td>0.913194</td>\n",
       "      <td>1</td>\n",
       "      <td>0</td>\n",
       "      <td>0</td>\n",
       "      <td>...</td>\n",
       "      <td>0</td>\n",
       "      <td>0</td>\n",
       "      <td>0</td>\n",
       "      <td>1</td>\n",
       "      <td>0</td>\n",
       "      <td>0</td>\n",
       "      <td>0</td>\n",
       "      <td>0</td>\n",
       "      <td>0</td>\n",
       "      <td>1</td>\n",
       "    </tr>\n",
       "    <tr>\n",
       "      <th>3</th>\n",
       "      <td>39954.04</td>\n",
       "      <td>False</td>\n",
       "      <td>0.283436</td>\n",
       "      <td>-1.301205</td>\n",
       "      <td>-1.56024</td>\n",
       "      <td>0.40349</td>\n",
       "      <td>0.913194</td>\n",
       "      <td>1</td>\n",
       "      <td>0</td>\n",
       "      <td>0</td>\n",
       "      <td>...</td>\n",
       "      <td>0</td>\n",
       "      <td>0</td>\n",
       "      <td>0</td>\n",
       "      <td>1</td>\n",
       "      <td>0</td>\n",
       "      <td>0</td>\n",
       "      <td>0</td>\n",
       "      <td>0</td>\n",
       "      <td>0</td>\n",
       "      <td>1</td>\n",
       "    </tr>\n",
       "    <tr>\n",
       "      <th>4</th>\n",
       "      <td>32229.38</td>\n",
       "      <td>False</td>\n",
       "      <td>0.283436</td>\n",
       "      <td>-1.301205</td>\n",
       "      <td>-1.56024</td>\n",
       "      <td>0.40349</td>\n",
       "      <td>0.913194</td>\n",
       "      <td>1</td>\n",
       "      <td>0</td>\n",
       "      <td>0</td>\n",
       "      <td>...</td>\n",
       "      <td>0</td>\n",
       "      <td>0</td>\n",
       "      <td>0</td>\n",
       "      <td>1</td>\n",
       "      <td>0</td>\n",
       "      <td>0</td>\n",
       "      <td>0</td>\n",
       "      <td>0</td>\n",
       "      <td>0</td>\n",
       "      <td>1</td>\n",
       "    </tr>\n",
       "  </tbody>\n",
       "</table>\n",
       "<p>5 rows × 127 columns</p>\n",
       "</div>"
      ],
      "text/plain": [
       "   Weekly_Sales  IsHoliday      Size  Temperature  Fuel_Price      CPI  \\\n",
       "0      24924.50      False  0.283436    -1.301205    -1.56024  0.40349   \n",
       "1      50605.27      False  0.283436    -1.301205    -1.56024  0.40349   \n",
       "2      13740.12      False  0.283436    -1.301205    -1.56024  0.40349   \n",
       "3      39954.04      False  0.283436    -1.301205    -1.56024  0.40349   \n",
       "4      32229.38      False  0.283436    -1.301205    -1.56024  0.40349   \n",
       "\n",
       "   Unemployment  Store_1  Store_10  Store_2          ...            \\\n",
       "0      0.913194        1         0        0          ...             \n",
       "1      0.913194        1         0        0          ...             \n",
       "2      0.913194        1         0        0          ...             \n",
       "3      0.913194        1         0        0          ...             \n",
       "4      0.913194        1         0        0          ...             \n",
       "\n",
       "   binned_markdown_4_41-60%  binned_markdown_4_61-80%  \\\n",
       "0                         0                         0   \n",
       "1                         0                         0   \n",
       "2                         0                         0   \n",
       "3                         0                         0   \n",
       "4                         0                         0   \n",
       "\n",
       "   binned_markdown_4_81-100%  binned_markdown_4_NaN  binned_markdown_5_0-20%  \\\n",
       "0                          0                      1                        0   \n",
       "1                          0                      1                        0   \n",
       "2                          0                      1                        0   \n",
       "3                          0                      1                        0   \n",
       "4                          0                      1                        0   \n",
       "\n",
       "   binned_markdown_5_21-40%  binned_markdown_5_41-60%  \\\n",
       "0                         0                         0   \n",
       "1                         0                         0   \n",
       "2                         0                         0   \n",
       "3                         0                         0   \n",
       "4                         0                         0   \n",
       "\n",
       "   binned_markdown_5_61-80%  binned_markdown_5_81-100%  binned_markdown_5_NaN  \n",
       "0                         0                          0                      1  \n",
       "1                         0                          0                      1  \n",
       "2                         0                          0                      1  \n",
       "3                         0                          0                      1  \n",
       "4                         0                          0                      1  \n",
       "\n",
       "[5 rows x 127 columns]"
      ]
     },
     "execution_count": 1,
     "metadata": {},
     "output_type": "execute_result"
    }
   ],
   "source": [
    "import pandas as pd\n",
    "import seaborn as sns\n",
    "import matplotlib.pyplot as plt\n",
    "import numpy as np\n",
    "%matplotlib inline\n",
    "\n",
    "df = pd.read_csv('walmart_dataset_cleaned.csv')\n",
    "df.head()"
   ]
  },
  {
   "cell_type": "markdown",
   "metadata": {},
   "source": [
    "Let's pull up the info."
   ]
  },
  {
   "cell_type": "code",
   "execution_count": 2,
   "metadata": {},
   "outputs": [
    {
     "name": "stdout",
     "output_type": "stream",
     "text": [
      "<class 'pandas.core.frame.DataFrame'>\n",
      "RangeIndex: 97839 entries, 0 to 97838\n",
      "Columns: 127 entries, Weekly_Sales to binned_markdown_5_NaN\n",
      "dtypes: bool(1), float64(6), int64(120)\n",
      "memory usage: 94.1 MB\n"
     ]
    }
   ],
   "source": [
    "df.info()"
   ]
  },
  {
   "cell_type": "markdown",
   "metadata": {},
   "source": [
    "Note that the output for info is much smaller compared to what we usually see. Because we have so many columns, pandas is intentionally not showing the data types for each column. Let's use `info()` again, but now just on the first 15 columns of the data."
   ]
  },
  {
   "cell_type": "code",
   "execution_count": 3,
   "metadata": {},
   "outputs": [
    {
     "name": "stdout",
     "output_type": "stream",
     "text": [
      "<class 'pandas.core.frame.DataFrame'>\n",
      "RangeIndex: 97839 entries, 0 to 97838\n",
      "Data columns (total 15 columns):\n",
      "Weekly_Sales    97839 non-null float64\n",
      "IsHoliday       97839 non-null bool\n",
      "Size            97839 non-null float64\n",
      "Temperature     97839 non-null float64\n",
      "Fuel_Price      97839 non-null float64\n",
      "CPI             97839 non-null float64\n",
      "Unemployment    97839 non-null float64\n",
      "Store_1         97839 non-null int64\n",
      "Store_10        97839 non-null int64\n",
      "Store_2         97839 non-null int64\n",
      "Store_3         97839 non-null int64\n",
      "Store_4         97839 non-null int64\n",
      "Store_5         97839 non-null int64\n",
      "Store_6         97839 non-null int64\n",
      "Store_7         97839 non-null int64\n",
      "dtypes: bool(1), float64(6), int64(8)\n",
      "memory usage: 10.5 MB\n"
     ]
    }
   ],
   "source": [
    "df.iloc[:,:15].info()"
   ]
  },
  {
   "cell_type": "markdown",
   "metadata": {},
   "source": [
    "Remember that all the columns from store_1 onwards are actually dummies, so categorical variables. Because we stored the data and loaded it in again, this information was lost. Let's make sure they become categorical again. You can write a for-loop to do this."
   ]
  },
  {
   "cell_type": "code",
   "execution_count": 4,
   "metadata": {},
   "outputs": [],
   "source": [
    "for i,col in enumerate(df.columns):\n",
    "    if i > 6:\n",
    "        df[col] = df[col].astype('category')"
   ]
  },
  {
   "cell_type": "markdown",
   "metadata": {},
   "source": [
    "Let's make sure IsHoliday is a categorical variable as well."
   ]
  },
  {
   "cell_type": "code",
   "execution_count": 5,
   "metadata": {},
   "outputs": [],
   "source": [
    "df['IsHoliday'] = df['IsHoliday'].astype('category')"
   ]
  },
  {
   "cell_type": "markdown",
   "metadata": {},
   "source": [
    "Let's check the info again to make sure everything is OK now."
   ]
  },
  {
   "cell_type": "code",
   "execution_count": 6,
   "metadata": {},
   "outputs": [
    {
     "name": "stdout",
     "output_type": "stream",
     "text": [
      "<class 'pandas.core.frame.DataFrame'>\n",
      "RangeIndex: 97839 entries, 0 to 97838\n",
      "Data columns (total 15 columns):\n",
      "Weekly_Sales    97839 non-null float64\n",
      "IsHoliday       97839 non-null category\n",
      "Size            97839 non-null float64\n",
      "Temperature     97839 non-null float64\n",
      "Fuel_Price      97839 non-null float64\n",
      "CPI             97839 non-null float64\n",
      "Unemployment    97839 non-null float64\n",
      "Store_1         97839 non-null category\n",
      "Store_10        97839 non-null category\n",
      "Store_2         97839 non-null category\n",
      "Store_3         97839 non-null category\n",
      "Store_4         97839 non-null category\n",
      "Store_5         97839 non-null category\n",
      "Store_6         97839 non-null category\n",
      "Store_7         97839 non-null category\n",
      "dtypes: category(9), float64(6)\n",
      "memory usage: 5.3 MB\n"
     ]
    }
   ],
   "source": [
    "df.iloc[:,:15].info()"
   ]
  },
  {
   "cell_type": "markdown",
   "metadata": {},
   "source": [
    "Great! you should see that the datatypes have changed to categories now! If you use `.describe` now, you should see only the remaining continuous variables in the data set."
   ]
  },
  {
   "cell_type": "code",
   "execution_count": 7,
   "metadata": {},
   "outputs": [
    {
     "data": {
      "text/html": [
       "<div>\n",
       "<style scoped>\n",
       "    .dataframe tbody tr th:only-of-type {\n",
       "        vertical-align: middle;\n",
       "    }\n",
       "\n",
       "    .dataframe tbody tr th {\n",
       "        vertical-align: top;\n",
       "    }\n",
       "\n",
       "    .dataframe thead th {\n",
       "        text-align: right;\n",
       "    }\n",
       "</style>\n",
       "<table border=\"1\" class=\"dataframe\">\n",
       "  <thead>\n",
       "    <tr style=\"text-align: right;\">\n",
       "      <th></th>\n",
       "      <th>Weekly_Sales</th>\n",
       "      <th>Size</th>\n",
       "      <th>Temperature</th>\n",
       "      <th>Fuel_Price</th>\n",
       "      <th>CPI</th>\n",
       "      <th>Unemployment</th>\n",
       "    </tr>\n",
       "  </thead>\n",
       "  <tbody>\n",
       "    <tr>\n",
       "      <th>count</th>\n",
       "      <td>97839.000000</td>\n",
       "      <td>9.783900e+04</td>\n",
       "      <td>9.783900e+04</td>\n",
       "      <td>9.783900e+04</td>\n",
       "      <td>9.783900e+04</td>\n",
       "      <td>9.783900e+04</td>\n",
       "    </tr>\n",
       "    <tr>\n",
       "      <th>mean</th>\n",
       "      <td>17223.235591</td>\n",
       "      <td>-8.044340e-14</td>\n",
       "      <td>2.339480e-13</td>\n",
       "      <td>4.784098e-13</td>\n",
       "      <td>-9.181116e-15</td>\n",
       "      <td>1.795967e-12</td>\n",
       "    </tr>\n",
       "    <tr>\n",
       "      <th>std</th>\n",
       "      <td>25288.572553</td>\n",
       "      <td>1.000000e+00</td>\n",
       "      <td>1.000000e+00</td>\n",
       "      <td>1.000000e+00</td>\n",
       "      <td>1.000000e+00</td>\n",
       "      <td>1.000000e+00</td>\n",
       "    </tr>\n",
       "    <tr>\n",
       "      <th>min</th>\n",
       "      <td>-1098.000000</td>\n",
       "      <td>-1.611999e+00</td>\n",
       "      <td>-3.843452e+00</td>\n",
       "      <td>-1.691961e+00</td>\n",
       "      <td>-1.958762e+00</td>\n",
       "      <td>-2.776898e+00</td>\n",
       "    </tr>\n",
       "    <tr>\n",
       "      <th>25%</th>\n",
       "      <td>2336.485000</td>\n",
       "      <td>-1.028620e+00</td>\n",
       "      <td>-7.087592e-01</td>\n",
       "      <td>-1.053793e+00</td>\n",
       "      <td>-1.266966e-01</td>\n",
       "      <td>-6.503157e-01</td>\n",
       "    </tr>\n",
       "    <tr>\n",
       "      <th>50%</th>\n",
       "      <td>7658.280000</td>\n",
       "      <td>2.834360e-01</td>\n",
       "      <td>1.340726e-01</td>\n",
       "      <td>1.180741e-01</td>\n",
       "      <td>4.995210e-01</td>\n",
       "      <td>-4.621274e-02</td>\n",
       "    </tr>\n",
       "    <tr>\n",
       "      <th>75%</th>\n",
       "      <td>20851.275000</td>\n",
       "      <td>1.113495e+00</td>\n",
       "      <td>8.680410e-01</td>\n",
       "      <td>8.243739e-01</td>\n",
       "      <td>6.346144e-01</td>\n",
       "      <td>7.089160e-01</td>\n",
       "    </tr>\n",
       "    <tr>\n",
       "      <th>max</th>\n",
       "      <td>693099.360000</td>\n",
       "      <td>1.171380e+00</td>\n",
       "      <td>1.738375e+00</td>\n",
       "      <td>2.745691e+00</td>\n",
       "      <td>8.517705e-01</td>\n",
       "      <td>2.361469e+00</td>\n",
       "    </tr>\n",
       "  </tbody>\n",
       "</table>\n",
       "</div>"
      ],
      "text/plain": [
       "        Weekly_Sales          Size   Temperature    Fuel_Price           CPI  \\\n",
       "count   97839.000000  9.783900e+04  9.783900e+04  9.783900e+04  9.783900e+04   \n",
       "mean    17223.235591 -8.044340e-14  2.339480e-13  4.784098e-13 -9.181116e-15   \n",
       "std     25288.572553  1.000000e+00  1.000000e+00  1.000000e+00  1.000000e+00   \n",
       "min     -1098.000000 -1.611999e+00 -3.843452e+00 -1.691961e+00 -1.958762e+00   \n",
       "25%      2336.485000 -1.028620e+00 -7.087592e-01 -1.053793e+00 -1.266966e-01   \n",
       "50%      7658.280000  2.834360e-01  1.340726e-01  1.180741e-01  4.995210e-01   \n",
       "75%     20851.275000  1.113495e+00  8.680410e-01  8.243739e-01  6.346144e-01   \n",
       "max    693099.360000  1.171380e+00  1.738375e+00  2.745691e+00  8.517705e-01   \n",
       "\n",
       "       Unemployment  \n",
       "count  9.783900e+04  \n",
       "mean   1.795967e-12  \n",
       "std    1.000000e+00  \n",
       "min   -2.776898e+00  \n",
       "25%   -6.503157e-01  \n",
       "50%   -4.621274e-02  \n",
       "75%    7.089160e-01  \n",
       "max    2.361469e+00  "
      ]
     },
     "execution_count": 7,
     "metadata": {},
     "output_type": "execute_result"
    }
   ],
   "source": [
    "df.describe()"
   ]
  },
  {
   "cell_type": "markdown",
   "metadata": {},
   "source": [
    "### Use a for-loop to look at some results for each linear regression model "
   ]
  },
  {
   "cell_type": "markdown",
   "metadata": {},
   "source": [
    "Let's use ordinary least squares in statsmodels at this stage.\n",
    "Import `statsmodels.formula.api` to get started"
   ]
  },
  {
   "cell_type": "code",
   "execution_count": 8,
   "metadata": {},
   "outputs": [],
   "source": [
    "import statsmodels.formula.api as smf"
   ]
  },
  {
   "cell_type": "markdown",
   "metadata": {},
   "source": [
    "Create a loop that for each iteration:\n",
    "* Runs a simple OLS regression between (continuous) independent and dependent variables\n",
    "* Store following values in array for each iteration\n",
    "    * Target variable\n",
    "    * R_squared\n",
    "    * intercept\n",
    "    * slope\n",
    "    * p-value\n",
    "* Comment on each output "
   ]
  },
  {
   "cell_type": "code",
   "execution_count": 9,
   "metadata": {},
   "outputs": [
    {
     "name": "stdout",
     "output_type": "stream",
     "text": [
      "Size\n",
      "----------\n",
      "['Size', 0.08577198301194777, 17223.235590817574, 7406.227377929049, 0.0]\n",
      "Temperature\n",
      "----------\n",
      "['Temperature', 0.0010145286600620196, 17223.235590817378, 805.4831797033963, 2.160985815462691e-23]\n",
      "Fuel_Price\n",
      "----------\n",
      "['Fuel_Price', 0.0008029403665875678, 17223.235590817232, 716.5821103232543, 7.649612001141253e-19]\n",
      "CPI\n",
      "----------\n",
      "['CPI', 0.039410515354355025, 17223.2355908175, -5020.308120380831, 0.0]\n",
      "Unemployment\n",
      "----------\n",
      "['Unemployment', 0.0008517114683159743, 17223.235590816246, 738.0241329746427, 6.825456986258902e-20]\n"
     ]
    }
   ],
   "source": [
    "var = ['Size', 'Temperature', 'Fuel_Price', 'CPI', 'Unemployment']\n",
    "results = [['ind', 'rsquared', 'intercept', 'slope', 'pval']]\n",
    "\n",
    "for i, col in enumerate(var):\n",
    "    print(col)\n",
    "    print('----------')\n",
    "    f = \"Weekly_Sales~\" + col\n",
    "    model = smf.ols(f, df).fit()\n",
    "    r = [col, model.rsquared, model.params[0], model.params[1], model.pvalues[1]]\n",
    "    results.append(r)\n",
    "    print(r)"
   ]
  },
  {
   "cell_type": "code",
   "execution_count": 10,
   "metadata": {},
   "outputs": [
    {
     "data": {
      "text/html": [
       "<div>\n",
       "<style scoped>\n",
       "    .dataframe tbody tr th:only-of-type {\n",
       "        vertical-align: middle;\n",
       "    }\n",
       "\n",
       "    .dataframe tbody tr th {\n",
       "        vertical-align: top;\n",
       "    }\n",
       "\n",
       "    .dataframe thead th {\n",
       "        text-align: right;\n",
       "    }\n",
       "</style>\n",
       "<table border=\"1\" class=\"dataframe\">\n",
       "  <thead>\n",
       "    <tr style=\"text-align: right;\">\n",
       "      <th></th>\n",
       "      <th>0</th>\n",
       "      <th>1</th>\n",
       "      <th>2</th>\n",
       "      <th>3</th>\n",
       "      <th>4</th>\n",
       "    </tr>\n",
       "  </thead>\n",
       "  <tbody>\n",
       "    <tr>\n",
       "      <th>0</th>\n",
       "      <td>ind</td>\n",
       "      <td>rsquared</td>\n",
       "      <td>intercept</td>\n",
       "      <td>slope</td>\n",
       "      <td>pval</td>\n",
       "    </tr>\n",
       "    <tr>\n",
       "      <th>1</th>\n",
       "      <td>Size</td>\n",
       "      <td>0.085772</td>\n",
       "      <td>17223.2</td>\n",
       "      <td>7406.23</td>\n",
       "      <td>0</td>\n",
       "    </tr>\n",
       "    <tr>\n",
       "      <th>2</th>\n",
       "      <td>Temperature</td>\n",
       "      <td>0.00101453</td>\n",
       "      <td>17223.2</td>\n",
       "      <td>805.483</td>\n",
       "      <td>2.16099e-23</td>\n",
       "    </tr>\n",
       "    <tr>\n",
       "      <th>3</th>\n",
       "      <td>Fuel_Price</td>\n",
       "      <td>0.00080294</td>\n",
       "      <td>17223.2</td>\n",
       "      <td>716.582</td>\n",
       "      <td>7.64961e-19</td>\n",
       "    </tr>\n",
       "    <tr>\n",
       "      <th>4</th>\n",
       "      <td>CPI</td>\n",
       "      <td>0.0394105</td>\n",
       "      <td>17223.2</td>\n",
       "      <td>-5020.31</td>\n",
       "      <td>0</td>\n",
       "    </tr>\n",
       "    <tr>\n",
       "      <th>5</th>\n",
       "      <td>Unemployment</td>\n",
       "      <td>0.000851711</td>\n",
       "      <td>17223.2</td>\n",
       "      <td>738.024</td>\n",
       "      <td>6.82546e-20</td>\n",
       "    </tr>\n",
       "  </tbody>\n",
       "</table>\n",
       "</div>"
      ],
      "text/plain": [
       "              0            1          2        3            4\n",
       "0           ind     rsquared  intercept    slope         pval\n",
       "1          Size     0.085772    17223.2  7406.23            0\n",
       "2   Temperature   0.00101453    17223.2  805.483  2.16099e-23\n",
       "3    Fuel_Price   0.00080294    17223.2  716.582  7.64961e-19\n",
       "4           CPI    0.0394105    17223.2 -5020.31            0\n",
       "5  Unemployment  0.000851711    17223.2  738.024  6.82546e-20"
      ]
     },
     "execution_count": 10,
     "metadata": {},
     "output_type": "execute_result"
    }
   ],
   "source": [
    "linearreg= pd.DataFrame(results)\n",
    "linearreg"
   ]
  },
  {
   "cell_type": "markdown",
   "metadata": {},
   "source": [
    "Think about your results. \n",
    "- What do the parameter estimates mean? Do they make sense? \n",
    "- What do the p-values tell us?\n",
    "- What does the R-squared tell us?"
   ]
  },
  {
   "cell_type": "code",
   "execution_count": null,
   "metadata": {},
   "outputs": [],
   "source": []
  },
  {
   "cell_type": "markdown",
   "metadata": {},
   "source": [
    "## Our R-squared values are low, let's try to solve this\n",
    "\n",
    "Something we haven't considered before, is taking log-transformations to make certain data less skewed. Let's take a quick look at our summarizing histograms. "
   ]
  },
  {
   "cell_type": "code",
   "execution_count": 11,
   "metadata": {},
   "outputs": [
    {
     "data": {
      "image/png": "[encoded data removed]",
      "text/plain": [
       "<Figure size 576x576 with 6 Axes>"
      ]
     },
     "metadata": {},
     "output_type": "display_data"
    }
   ],
   "source": [
    "df.hist(figsize=(8,8));"
   ]
  },
  {
   "cell_type": "markdown",
   "metadata": {},
   "source": [
    "Interestingly the most problematic variable in terms of skewness seems to be weekly sales itself. Does it make sense to log-transform this variable? It definitely doesn't hurt to try! Let's have a look below. what do you see?"
   ]
  },
  {
   "cell_type": "code",
   "execution_count": 12,
   "metadata": {},
   "outputs": [
    {
     "name": "stderr",
     "output_type": "stream",
     "text": [
      "/anaconda3/lib/python3.6/site-packages/ipykernel_launcher.py:1: RuntimeWarning: divide by zero encountered in log\n",
      "  \"\"\"Entry point for launching an IPython kernel.\n",
      "/anaconda3/lib/python3.6/site-packages/ipykernel_launcher.py:1: RuntimeWarning: invalid value encountered in log\n",
      "  \"\"\"Entry point for launching an IPython kernel.\n"
     ]
    },
    {
     "ename": "ValueError",
     "evalue": "range parameter must be finite.",
     "output_type": "error",
     "traceback": [
      "\u001b[0;31m---------------------------------------------------------------------------\u001b[0m",
      "\u001b[0;31mValueError\u001b[0m                                Traceback (most recent call last)",
      "\u001b[0;32m<ipython-input-12-62a10d9db3e1>\u001b[0m in \u001b[0;36m<module>\u001b[0;34m()\u001b[0m\n\u001b[0;32m----> 1\u001b[0;31m \u001b[0mnp\u001b[0m\u001b[0;34m.\u001b[0m\u001b[0mlog\u001b[0m\u001b[0;34m(\u001b[0m\u001b[0mdf\u001b[0m\u001b[0;34m.\u001b[0m\u001b[0mWeekly_Sales\u001b[0m\u001b[0;34m)\u001b[0m\u001b[0;34m.\u001b[0m\u001b[0mhist\u001b[0m\u001b[0;34m(\u001b[0m\u001b[0;34m)\u001b[0m\u001b[0;34m\u001b[0m\u001b[0m\n\u001b[0m",
      "\u001b[0;32m/anaconda3/lib/python3.6/site-packages/pandas/plotting/_core.py\u001b[0m in \u001b[0;36mhist_series\u001b[0;34m(self, by, ax, grid, xlabelsize, xrot, ylabelsize, yrot, figsize, bins, **kwds)\u001b[0m\n\u001b[1;32m   2479\u001b[0m         \u001b[0mvalues\u001b[0m \u001b[0;34m=\u001b[0m \u001b[0mself\u001b[0m\u001b[0;34m.\u001b[0m\u001b[0mdropna\u001b[0m\u001b[0;34m(\u001b[0m\u001b[0;34m)\u001b[0m\u001b[0;34m.\u001b[0m\u001b[0mvalues\u001b[0m\u001b[0;34m\u001b[0m\u001b[0m\n\u001b[1;32m   2480\u001b[0m \u001b[0;34m\u001b[0m\u001b[0m\n\u001b[0;32m-> 2481\u001b[0;31m         \u001b[0max\u001b[0m\u001b[0;34m.\u001b[0m\u001b[0mhist\u001b[0m\u001b[0;34m(\u001b[0m\u001b[0mvalues\u001b[0m\u001b[0;34m,\u001b[0m \u001b[0mbins\u001b[0m\u001b[0;34m=\u001b[0m\u001b[0mbins\u001b[0m\u001b[0;34m,\u001b[0m \u001b[0;34m**\u001b[0m\u001b[0mkwds\u001b[0m\u001b[0;34m)\u001b[0m\u001b[0;34m\u001b[0m\u001b[0m\n\u001b[0m\u001b[1;32m   2482\u001b[0m         \u001b[0max\u001b[0m\u001b[0;34m.\u001b[0m\u001b[0mgrid\u001b[0m\u001b[0;34m(\u001b[0m\u001b[0mgrid\u001b[0m\u001b[0;34m)\u001b[0m\u001b[0;34m\u001b[0m\u001b[0m\n\u001b[1;32m   2483\u001b[0m         \u001b[0maxes\u001b[0m \u001b[0;34m=\u001b[0m \u001b[0mnp\u001b[0m\u001b[0;34m.\u001b[0m\u001b[0marray\u001b[0m\u001b[0;34m(\u001b[0m\u001b[0;34m[\u001b[0m\u001b[0max\u001b[0m\u001b[0;34m]\u001b[0m\u001b[0;34m)\u001b[0m\u001b[0;34m\u001b[0m\u001b[0m\n",
      "\u001b[0;32m/anaconda3/lib/python3.6/site-packages/matplotlib/__init__.py\u001b[0m in \u001b[0;36minner\u001b[0;34m(ax, *args, **kwargs)\u001b[0m\n\u001b[1;32m   1853\u001b[0m                         \u001b[0;34m\"the Matplotlib list!)\"\u001b[0m \u001b[0;34m%\u001b[0m \u001b[0;34m(\u001b[0m\u001b[0mlabel_namer\u001b[0m\u001b[0;34m,\u001b[0m \u001b[0mfunc\u001b[0m\u001b[0;34m.\u001b[0m\u001b[0m__name__\u001b[0m\u001b[0;34m)\u001b[0m\u001b[0;34m,\u001b[0m\u001b[0;34m\u001b[0m\u001b[0m\n\u001b[1;32m   1854\u001b[0m                         RuntimeWarning, stacklevel=2)\n\u001b[0;32m-> 1855\u001b[0;31m             \u001b[0;32mreturn\u001b[0m \u001b[0mfunc\u001b[0m\u001b[0;34m(\u001b[0m\u001b[0max\u001b[0m\u001b[0;34m,\u001b[0m \u001b[0;34m*\u001b[0m\u001b[0margs\u001b[0m\u001b[0;34m,\u001b[0m \u001b[0;34m**\u001b[0m\u001b[0mkwargs\u001b[0m\u001b[0;34m)\u001b[0m\u001b[0;34m\u001b[0m\u001b[0m\n\u001b[0m\u001b[1;32m   1856\u001b[0m \u001b[0;34m\u001b[0m\u001b[0m\n\u001b[1;32m   1857\u001b[0m         inner.__doc__ = _add_data_doc(inner.__doc__,\n",
      "\u001b[0;32m/anaconda3/lib/python3.6/site-packages/matplotlib/axes/_axes.py\u001b[0m in \u001b[0;36mhist\u001b[0;34m(***failed resolving arguments***)\u001b[0m\n\u001b[1;32m   6528\u001b[0m             \u001b[0;31m# this will automatically overwrite bins,\u001b[0m\u001b[0;34m\u001b[0m\u001b[0;34m\u001b[0m\u001b[0m\n\u001b[1;32m   6529\u001b[0m             \u001b[0;31m# so that each histogram uses the same bins\u001b[0m\u001b[0;34m\u001b[0m\u001b[0;34m\u001b[0m\u001b[0m\n\u001b[0;32m-> 6530\u001b[0;31m             \u001b[0mm\u001b[0m\u001b[0;34m,\u001b[0m \u001b[0mbins\u001b[0m \u001b[0;34m=\u001b[0m \u001b[0mnp\u001b[0m\u001b[0;34m.\u001b[0m\u001b[0mhistogram\u001b[0m\u001b[0;34m(\u001b[0m\u001b[0mx\u001b[0m\u001b[0;34m[\u001b[0m\u001b[0mi\u001b[0m\u001b[0;34m]\u001b[0m\u001b[0;34m,\u001b[0m \u001b[0mbins\u001b[0m\u001b[0;34m,\u001b[0m \u001b[0mweights\u001b[0m\u001b[0;34m=\u001b[0m\u001b[0mw\u001b[0m\u001b[0;34m[\u001b[0m\u001b[0mi\u001b[0m\u001b[0;34m]\u001b[0m\u001b[0;34m,\u001b[0m \u001b[0;34m**\u001b[0m\u001b[0mhist_kwargs\u001b[0m\u001b[0;34m)\u001b[0m\u001b[0;34m\u001b[0m\u001b[0m\n\u001b[0m\u001b[1;32m   6531\u001b[0m             \u001b[0mm\u001b[0m \u001b[0;34m=\u001b[0m \u001b[0mm\u001b[0m\u001b[0;34m.\u001b[0m\u001b[0mastype\u001b[0m\u001b[0;34m(\u001b[0m\u001b[0mfloat\u001b[0m\u001b[0;34m)\u001b[0m  \u001b[0;31m# causes problems later if it's an int\u001b[0m\u001b[0;34m\u001b[0m\u001b[0m\n\u001b[1;32m   6532\u001b[0m             \u001b[0;32mif\u001b[0m \u001b[0mmlast\u001b[0m \u001b[0;32mis\u001b[0m \u001b[0;32mNone\u001b[0m\u001b[0;34m:\u001b[0m\u001b[0;34m\u001b[0m\u001b[0m\n",
      "\u001b[0;32m/anaconda3/lib/python3.6/site-packages/numpy/lib/function_base.py\u001b[0m in \u001b[0;36mhistogram\u001b[0;34m(a, bins, range, normed, weights, density)\u001b[0m\n\u001b[1;32m    668\u001b[0m     \u001b[0;32mif\u001b[0m \u001b[0;32mnot\u001b[0m \u001b[0mnp\u001b[0m\u001b[0;34m.\u001b[0m\u001b[0mall\u001b[0m\u001b[0;34m(\u001b[0m\u001b[0mnp\u001b[0m\u001b[0;34m.\u001b[0m\u001b[0misfinite\u001b[0m\u001b[0;34m(\u001b[0m\u001b[0;34m[\u001b[0m\u001b[0mfirst_edge\u001b[0m\u001b[0;34m,\u001b[0m \u001b[0mlast_edge\u001b[0m\u001b[0;34m]\u001b[0m\u001b[0;34m)\u001b[0m\u001b[0;34m)\u001b[0m\u001b[0;34m:\u001b[0m\u001b[0;34m\u001b[0m\u001b[0m\n\u001b[1;32m    669\u001b[0m         raise ValueError(\n\u001b[0;32m--> 670\u001b[0;31m             'range parameter must be finite.')\n\u001b[0m\u001b[1;32m    671\u001b[0m     \u001b[0;32mif\u001b[0m \u001b[0mfirst_edge\u001b[0m \u001b[0;34m==\u001b[0m \u001b[0mlast_edge\u001b[0m\u001b[0;34m:\u001b[0m\u001b[0;34m\u001b[0m\u001b[0m\n\u001b[1;32m    672\u001b[0m         \u001b[0mfirst_edge\u001b[0m \u001b[0;34m-=\u001b[0m \u001b[0;36m0.5\u001b[0m\u001b[0;34m\u001b[0m\u001b[0m\n",
      "\u001b[0;31mValueError\u001b[0m: range parameter must be finite."
     ]
    },
    {
     "data": {
      "image/png": "[encoded data removed]",
      "text/plain": [
       "<Figure size 432x288 with 1 Axes>"
      ]
     },
     "metadata": {},
     "output_type": "display_data"
    }
   ],
   "source": [
    "np.log(df.Weekly_Sales).hist()"
   ]
  },
  {
   "cell_type": "code",
   "execution_count": 14,
   "metadata": {},
   "outputs": [
    {
     "name": "stderr",
     "output_type": "stream",
     "text": [
      "/anaconda3/lib/python3.6/site-packages/ipykernel_launcher.py:1: RuntimeWarning: divide by zero encountered in log\n",
      "  \"\"\"Entry point for launching an IPython kernel.\n",
      "/anaconda3/lib/python3.6/site-packages/ipykernel_launcher.py:1: RuntimeWarning: invalid value encountered in log\n",
      "  \"\"\"Entry point for launching an IPython kernel.\n"
     ]
    },
    {
     "data": {
      "text/plain": [
       "count    9.763100e+04\n",
       "mean             -inf\n",
       "std               NaN\n",
       "min              -inf\n",
       "25%      7.765571e+00\n",
       "50%      8.948268e+00\n",
       "75%      9.947998e+00\n",
       "max      1.344893e+01\n",
       "Name: Weekly_Sales, dtype: float64"
      ]
     },
     "execution_count": 14,
     "metadata": {},
     "output_type": "execute_result"
    }
   ],
   "source": [
    "np.log(df.Weekly_Sales).describe()"
   ]
  },
  {
   "cell_type": "markdown",
   "metadata": {},
   "source": [
    "That's right, we have some negative `Weekly_Sales` values! Let's check how many we have."
   ]
  },
  {
   "cell_type": "code",
   "execution_count": 15,
   "metadata": {},
   "outputs": [
    {
     "data": {
      "text/plain": [
       "224"
      ]
     },
     "execution_count": 15,
     "metadata": {},
     "output_type": "execute_result"
    }
   ],
   "source": [
    "len(df[df.Weekly_Sales<=0])"
   ]
  },
  {
   "cell_type": "markdown",
   "metadata": {},
   "source": [
    "This seems negligibe considering we have almost 100,000 observations. Let's remove these 224 rows so we can take the log."
   ]
  },
  {
   "cell_type": "code",
   "execution_count": 16,
   "metadata": {},
   "outputs": [],
   "source": [
    "df = df[df.Weekly_Sales>0]"
   ]
  },
  {
   "cell_type": "markdown",
   "metadata": {},
   "source": [
    "Let's have another look at the histogram. What do you see?"
   ]
  },
  {
   "cell_type": "code",
   "execution_count": 17,
   "metadata": {},
   "outputs": [
    {
     "data": {
      "text/plain": [
       "<matplotlib.axes._subplots.AxesSubplot at 0x10f454390>"
      ]
     },
     "execution_count": 17,
     "metadata": {},
     "output_type": "execute_result"
    },
    {
     "data": {
      "image/png": "[encoded data removed]",
      "text/plain": [
       "<Figure size 432x288 with 1 Axes>"
      ]
     },
     "metadata": {},
     "output_type": "display_data"
    }
   ],
   "source": [
    "np.log(df.Weekly_Sales).hist()"
   ]
  },
  {
   "cell_type": "markdown",
   "metadata": {},
   "source": [
    "Now let's repeat what we did before, yet now with the log(Weekly_Sales) as the target."
   ]
  },
  {
   "cell_type": "code",
   "execution_count": 18,
   "metadata": {},
   "outputs": [
    {
     "name": "stderr",
     "output_type": "stream",
     "text": [
      "/anaconda3/lib/python3.6/site-packages/ipykernel_launcher.py:1: SettingWithCopyWarning: \n",
      "A value is trying to be set on a copy of a slice from a DataFrame.\n",
      "Try using .loc[row_indexer,col_indexer] = value instead\n",
      "\n",
      "See the caveats in the documentation: http://pandas.pydata.org/pandas-docs/stable/indexing.html#indexing-view-versus-copy\n",
      "  \"\"\"Entry point for launching an IPython kernel.\n"
     ]
    }
   ],
   "source": [
    "df['Log_Sales'] = np.log(df.Weekly_Sales)"
   ]
  },
  {
   "cell_type": "code",
   "execution_count": 19,
   "metadata": {},
   "outputs": [
    {
     "name": "stdout",
     "output_type": "stream",
     "text": [
      "Size\n",
      "----------\n",
      "['Size', 0.10780975018477779, 8.671485180985368, 0.6116185906202127, 0.0]\n",
      "Temperature\n",
      "----------\n",
      "['Temperature', 0.0007654996204087272, 8.671603611690758, 0.0515690944972903, 5.3400172912048595e-18]\n",
      "Fuel_Price\n",
      "----------\n",
      "['Fuel_Price', 0.00044928127033871945, 8.671613962769431, 0.03949232656972057, 3.5176641775608455e-11]\n",
      "CPI\n",
      "----------\n",
      "['CPI', 0.025949085295407515, 8.671703573822903, -0.3002071974538499, 0.0]\n",
      "Unemployment\n",
      "----------\n",
      "['Unemployment', 0.00027696050787828774, 8.671620744194504, 0.03101368076921429, 1.9943786070646916e-07]\n"
     ]
    }
   ],
   "source": [
    "var = ['Size', 'Temperature', 'Fuel_Price', 'CPI', 'Unemployment']\n",
    "results = [['ind', 'rsquared', 'intercept', 'slope', 'pval']]\n",
    "\n",
    "for i, col in enumerate(var):\n",
    "    print(col)\n",
    "    print('----------')\n",
    "    f = \"Log_Sales~\" + col\n",
    "    model = smf.ols(f, df).fit()\n",
    "    r = [col, model.rsquared, model.params[0], model.params[1], model.pvalues[1]]\n",
    "    results.append(r)\n",
    "    print(r)"
   ]
  },
  {
   "cell_type": "code",
   "execution_count": 20,
   "metadata": {},
   "outputs": [
    {
     "data": {
      "text/html": [
       "<div>\n",
       "<style scoped>\n",
       "    .dataframe tbody tr th:only-of-type {\n",
       "        vertical-align: middle;\n",
       "    }\n",
       "\n",
       "    .dataframe tbody tr th {\n",
       "        vertical-align: top;\n",
       "    }\n",
       "\n",
       "    .dataframe thead th {\n",
       "        text-align: right;\n",
       "    }\n",
       "</style>\n",
       "<table border=\"1\" class=\"dataframe\">\n",
       "  <thead>\n",
       "    <tr style=\"text-align: right;\">\n",
       "      <th></th>\n",
       "      <th>0</th>\n",
       "      <th>1</th>\n",
       "      <th>2</th>\n",
       "      <th>3</th>\n",
       "      <th>4</th>\n",
       "    </tr>\n",
       "  </thead>\n",
       "  <tbody>\n",
       "    <tr>\n",
       "      <th>0</th>\n",
       "      <td>ind</td>\n",
       "      <td>rsquared</td>\n",
       "      <td>intercept</td>\n",
       "      <td>slope</td>\n",
       "      <td>pval</td>\n",
       "    </tr>\n",
       "    <tr>\n",
       "      <th>1</th>\n",
       "      <td>Size</td>\n",
       "      <td>0.10781</td>\n",
       "      <td>8.67149</td>\n",
       "      <td>0.611619</td>\n",
       "      <td>0</td>\n",
       "    </tr>\n",
       "    <tr>\n",
       "      <th>2</th>\n",
       "      <td>Temperature</td>\n",
       "      <td>0.0007655</td>\n",
       "      <td>8.6716</td>\n",
       "      <td>0.0515691</td>\n",
       "      <td>5.34002e-18</td>\n",
       "    </tr>\n",
       "    <tr>\n",
       "      <th>3</th>\n",
       "      <td>Fuel_Price</td>\n",
       "      <td>0.000449281</td>\n",
       "      <td>8.67161</td>\n",
       "      <td>0.0394923</td>\n",
       "      <td>3.51766e-11</td>\n",
       "    </tr>\n",
       "    <tr>\n",
       "      <th>4</th>\n",
       "      <td>CPI</td>\n",
       "      <td>0.0259491</td>\n",
       "      <td>8.6717</td>\n",
       "      <td>-0.300207</td>\n",
       "      <td>0</td>\n",
       "    </tr>\n",
       "    <tr>\n",
       "      <th>5</th>\n",
       "      <td>Unemployment</td>\n",
       "      <td>0.000276961</td>\n",
       "      <td>8.67162</td>\n",
       "      <td>0.0310137</td>\n",
       "      <td>1.99438e-07</td>\n",
       "    </tr>\n",
       "  </tbody>\n",
       "</table>\n",
       "</div>"
      ],
      "text/plain": [
       "              0            1          2          3            4\n",
       "0           ind     rsquared  intercept      slope         pval\n",
       "1          Size      0.10781    8.67149   0.611619            0\n",
       "2   Temperature    0.0007655     8.6716  0.0515691  5.34002e-18\n",
       "3    Fuel_Price  0.000449281    8.67161  0.0394923  3.51766e-11\n",
       "4           CPI    0.0259491     8.6717  -0.300207            0\n",
       "5  Unemployment  0.000276961    8.67162  0.0310137  1.99438e-07"
      ]
     },
     "execution_count": 20,
     "metadata": {},
     "output_type": "execute_result"
    }
   ],
   "source": [
    "pd.DataFrame(results)"
   ]
  },
  {
   "cell_type": "code",
   "execution_count": null,
   "metadata": {},
   "outputs": [],
   "source": []
  },
  {
   "cell_type": "markdown",
   "metadata": {},
   "source": [
    "- compare and contract the results with the results obtained when we did not take the log(sales)\n",
    "- Which one would you want to proceed with based on this?"
   ]
  },
  {
   "cell_type": "markdown",
   "metadata": {},
   "source": [
    "## Build a model with each categorical variable as a predictor"
   ]
  },
  {
   "cell_type": "markdown",
   "metadata": {},
   "source": [
    "- Use it on the log-transformed, and the regular `Weekly_Sales`\n",
    "- put all categories for one categorical variable in 1 model, so we want 4 models.\n",
    "- remember that we have 4 categorical variables: `Store`,  `Dept`, `IsHoliday` and `Type`( we're for now ignoring the `binned_markdown` categories, you can add then later on as an extension)\n",
    "- IMPORTANT: remember that we made dummies for `Type`, `Dept` and `Store` columns. You'll need to drop 1 column for each of these if you want good results. The reason for this is that singularity will occur and . This is related to what we mentioned earlier on in section 11. Don't worry about the \"why\" for now, just make sure to drop 1 column and you should be fine! The parameter value for the dropper \"base category\" will be absorbed in the intercept."
   ]
  },
  {
   "cell_type": "code",
   "execution_count": 21,
   "metadata": {},
   "outputs": [
    {
     "data": {
      "text/plain": [
       "Index(['Dept_1', 'Dept_10', 'Dept_11', 'Dept_12', 'Dept_13', 'Dept_14',\n",
       "       'Dept_16', 'Dept_17', 'Dept_18', 'Dept_19', 'Dept_2', 'Dept_20',\n",
       "       'Dept_21', 'Dept_22', 'Dept_23', 'Dept_24', 'Dept_25', 'Dept_26',\n",
       "       'Dept_27', 'Dept_28', 'Dept_29', 'Dept_3', 'Dept_30', 'Dept_31',\n",
       "       'Dept_32', 'Dept_33', 'Dept_34', 'Dept_35', 'Dept_36', 'Dept_37',\n",
       "       'Dept_38', 'Dept_39', 'Dept_4', 'Dept_40', 'Dept_41', 'Dept_42',\n",
       "       'Dept_44', 'Dept_45', 'Dept_46', 'Dept_47', 'Dept_48', 'Dept_49',\n",
       "       'Dept_5', 'Dept_50', 'Dept_51', 'Dept_52', 'Dept_54', 'Dept_55',\n",
       "       'Dept_56', 'Dept_58', 'Dept_59', 'Dept_6', 'Dept_60', 'Dept_67',\n",
       "       'Dept_7', 'Dept_71', 'Dept_72', 'Dept_74', 'Dept_77', 'Dept_78',\n",
       "       'Dept_79', 'Dept_8', 'Dept_80', 'Dept_81', 'Dept_82', 'Dept_83',\n",
       "       'Dept_85', 'Dept_87', 'Dept_9', 'Dept_90', 'Dept_91', 'Dept_92',\n",
       "       'Dept_93', 'Dept_94', 'Dept_95', 'Dept_96', 'Dept_97', 'Dept_98'],\n",
       "      dtype='object')"
      ]
     },
     "execution_count": 21,
     "metadata": {},
     "output_type": "execute_result"
    }
   ],
   "source": [
    "df.columns[17:95]"
   ]
  },
  {
   "cell_type": "code",
   "execution_count": null,
   "metadata": {},
   "outputs": [],
   "source": []
  },
  {
   "cell_type": "code",
   "execution_count": 22,
   "metadata": {},
   "outputs": [
    {
     "name": "stdout",
     "output_type": "stream",
     "text": [
      "                            OLS Regression Results                            \n",
      "==============================================================================\n",
      "Dep. Variable:           Weekly_Sales   R-squared:                       0.123\n",
      "Model:                            OLS   Adj. R-squared:                  0.123\n",
      "Method:                 Least Squares   F-statistic:                     1522.\n",
      "Date:                Thu, 20 Dec 2018   Prob (F-statistic):               0.00\n",
      "Time:                        17:40:03   Log-Likelihood:            -1.1218e+06\n",
      "No. Observations:               97615   AIC:                         2.244e+06\n",
      "Df Residuals:                   97605   BIC:                         2.244e+06\n",
      "Df Model:                           9                                         \n",
      "Covariance Type:            nonrobust                                         \n",
      "================================================================================\n",
      "                   coef    std err          t      P>|t|      [0.025      0.975]\n",
      "--------------------------------------------------------------------------------\n",
      "Intercept     2.647e+04    233.948    113.162      0.000     2.6e+04    2.69e+04\n",
      "Store_1[T.1] -4724.9388    331.127    -14.269      0.000   -5373.945   -4075.933\n",
      "Store_2[T.1]   487.6497    331.225      1.472      0.141    -161.547    1136.847\n",
      "Store_3[T.1] -2.009e+04    341.974    -58.758      0.000   -2.08e+04   -1.94e+04\n",
      "Store_4[T.1]  2701.4553    330.796      8.167      0.000    2053.099    3349.812\n",
      "Store_5[T.1] -2.141e+04    342.460    -62.515      0.000   -2.21e+04   -2.07e+04\n",
      "Store_6[T.1] -4513.2850    331.428    -13.618      0.000   -5162.881   -3863.689\n",
      "Store_7[T.1] -1.809e+04    335.257    -53.972      0.000   -1.88e+04   -1.74e+04\n",
      "Store_8[T.1] -1.333e+04    333.993    -39.896      0.000    -1.4e+04   -1.27e+04\n",
      "Store_9[T.1] -1.767e+04    343.945    -51.369      0.000   -1.83e+04    -1.7e+04\n",
      "==============================================================================\n",
      "Omnibus:                    71707.896   Durbin-Watson:                   1.298\n",
      "Prob(Omnibus):                  0.000   Jarque-Bera (JB):          2569497.337\n",
      "Skew:                           3.157   Prob(JB):                         0.00\n",
      "Kurtosis:                      27.329   Cond. No.                         10.7\n",
      "==============================================================================\n",
      "\n",
      "Warnings:\n",
      "[1] Standard Errors assume that the covariance matrix of the errors is correctly specified.\n",
      "                            OLS Regression Results                            \n",
      "==============================================================================\n",
      "Dep. Variable:           Weekly_Sales   R-squared:                       0.503\n",
      "Model:                            OLS   Adj. R-squared:                  0.502\n",
      "Method:                 Least Squares   F-statistic:                     1265.\n",
      "Date:                Thu, 20 Dec 2018   Prob (F-statistic):               0.00\n",
      "Time:                        17:40:04   Log-Likelihood:            -1.0941e+06\n",
      "No. Observations:               97615   AIC:                         2.188e+06\n",
      "Df Residuals:                   97536   BIC:                         2.189e+06\n",
      "Df Model:                          78                                         \n",
      "Covariance Type:            nonrobust                                         \n",
      "================================================================================\n",
      "                   coef    std err          t      P>|t|      [0.025      0.975]\n",
      "--------------------------------------------------------------------------------\n",
      "Intercept      431.3373   1281.474      0.337      0.736   -2080.337    2943.011\n",
      "Dept_1[T.1]    2.03e+04   1365.635     14.867      0.000    1.76e+04     2.3e+04\n",
      "Dept_10[T.1]  2.736e+04   1365.635     20.038      0.000    2.47e+04       3e+04\n",
      "Dept_11[T.1]  1.908e+04   1365.635     13.972      0.000    1.64e+04    2.18e+04\n",
      "Dept_12[T.1]  6222.9237   1365.635      4.557      0.000    3546.294    8899.553\n",
      "Dept_13[T.1]  3.356e+04   1365.635     24.571      0.000    3.09e+04    3.62e+04\n",
      "Dept_14[T.1]   1.63e+04   1365.635     11.939      0.000    1.36e+04     1.9e+04\n",
      "Dept_16[T.1]  1.845e+04   1365.635     13.509      0.000    1.58e+04    2.11e+04\n",
      "Dept_17[T.1]   1.01e+04   1365.635      7.399      0.000    7427.204    1.28e+04\n",
      "Dept_18[T.1]  8078.6273   1391.819      5.804      0.000    5350.679    1.08e+04\n",
      "Dept_19[T.1]  1567.4807   1377.479      1.138      0.255   -1132.363    4267.324\n",
      "Dept_2[T.1]   4.739e+04   1365.635     34.699      0.000    4.47e+04    5.01e+04\n",
      "Dept_20[T.1]  5163.6415   1365.635      3.781      0.000    2487.012    7840.271\n",
      "Dept_21[T.1]  5409.5299   1365.635      3.961      0.000    2732.900    8086.159\n",
      "Dept_22[T.1]  1.028e+04   1365.635      7.530      0.000    7606.360     1.3e+04\n",
      "Dept_23[T.1]  2.459e+04   1365.635     18.004      0.000    2.19e+04    2.73e+04\n",
      "Dept_24[T.1]  5673.4257   1365.635      4.154      0.000    2996.796    8350.055\n",
      "Dept_25[T.1]  9587.0648   1365.635      7.020      0.000    6910.435    1.23e+04\n",
      "Dept_26[T.1]  7329.7879   1365.635      5.367      0.000    4653.158       1e+04\n",
      "Dept_27[T.1]  1078.8302   1365.635      0.790      0.430   -1597.799    3755.460\n",
      "Dept_28[T.1]   102.4398   1365.635      0.075      0.940   -2574.190    2779.069\n",
      "Dept_29[T.1]  4854.2609   1365.635      3.555      0.000    2177.632    7530.890\n",
      "Dept_3[T.1]   1.306e+04   1365.635      9.567      0.000    1.04e+04    1.57e+04\n",
      "Dept_30[T.1]  3541.8062   1365.635      2.594      0.010     865.177    6218.436\n",
      "Dept_31[T.1]  2101.3652   1365.635      1.539      0.124    -575.264    4777.995\n",
      "Dept_32[T.1]  8473.0120   1365.692      6.204      0.000    5796.271    1.11e+04\n",
      "Dept_33[T.1]  5834.4194   1365.635      4.272      0.000    3157.790    8511.049\n",
      "Dept_34[T.1]  1.388e+04   1365.635     10.161      0.000    1.12e+04    1.66e+04\n",
      "Dept_35[T.1]  2497.4479   1365.692      1.829      0.067    -179.293    5174.189\n",
      "Dept_36[T.1]  1485.2765   1365.922      1.087      0.277   -1191.914    4162.467\n",
      "Dept_37[T.1]  3093.6909   1418.973      2.180      0.029     312.521    5874.861\n",
      "Dept_38[T.1]  7.396e+04   1365.635     54.155      0.000    7.13e+04    7.66e+04\n",
      "Dept_39[T.1]  -429.1533   8084.465     -0.053      0.958   -1.63e+04    1.54e+04\n",
      "Dept_4[T.1]   2.891e+04   1365.635     21.172      0.000    2.62e+04    3.16e+04\n",
      "Dept_40[T.1]  5.131e+04   1365.635     37.574      0.000    4.86e+04     5.4e+04\n",
      "Dept_41[T.1]  1876.8782   1365.635      1.374      0.169    -799.751    4553.508\n",
      "Dept_42[T.1]  6510.3975   1365.635      4.767      0.000    3833.768    9187.027\n",
      "Dept_44[T.1]  4394.7593   1365.635      3.218      0.001    1718.130    7071.389\n",
      "Dept_45[T.1]  -405.7365   1500.440     -0.270      0.787   -3346.580    2535.108\n",
      "Dept_46[T.1]  2.182e+04   1365.635     15.976      0.000    1.91e+04    2.45e+04\n",
      "Dept_47[T.1]  -279.2666   2183.009     -0.128      0.898   -4557.939    3999.406\n",
      "Dept_48[T.1]  1194.1965   1422.411      0.840      0.401   -1593.713    3982.106\n",
      "Dept_49[T.1]  8409.1463   1389.045      6.054      0.000    5686.635    1.11e+04\n",
      "Dept_5[T.1]   2.604e+04   1365.635     19.067      0.000    2.34e+04    2.87e+04\n",
      "Dept_50[T.1]  3826.3230   1967.237      1.945      0.052     -29.439    7682.085\n",
      "Dept_51[T.1]  -411.3551   1794.245     -0.229      0.819   -3928.054    3105.344\n",
      "Dept_52[T.1]  2169.2487   1365.635      1.588      0.112    -507.381    4845.878\n",
      "Dept_54[T.1]  -323.0563   1379.449     -0.234      0.815   -3026.761    2380.649\n",
      "Dept_55[T.1]  1.101e+04   1365.635      8.065      0.000    8337.206    1.37e+04\n",
      "Dept_56[T.1]  3655.7740   1365.807      2.677      0.007     978.809    6332.740\n",
      "Dept_58[T.1]  5190.5691   1393.310      3.725      0.000    2459.697    7921.441\n",
      "Dept_59[T.1]   452.4510   1374.251      0.329      0.742   -2241.065    3145.966\n",
      "Dept_6[T.1]   4913.2359   1365.750      3.597      0.000    2236.383    7590.089\n",
      "Dept_60[T.1]   -94.7878   1373.699     -0.069      0.945   -2787.223    2597.647\n",
      "Dept_67[T.1]  7061.2917   1365.635      5.171      0.000    4384.662    9737.921\n",
      "Dept_7[T.1]   2.661e+04   1365.635     19.488      0.000    2.39e+04    2.93e+04\n",
      "Dept_71[T.1]  3990.1072   1365.635      2.922      0.003    1313.478    6666.737\n",
      "Dept_72[T.1]  5.894e+04   1365.635     43.156      0.000    5.63e+04    6.16e+04\n",
      "Dept_74[T.1]  1.419e+04   1365.635     10.389      0.000    1.15e+04    1.69e+04\n",
      "Dept_77[T.1]   118.7381   3727.644      0.032      0.975   -7187.401    7424.877\n",
      "Dept_78[T.1]  -420.3445   2980.382     -0.141      0.888   -6261.858    5421.169\n",
      "Dept_79[T.1]  2.285e+04   1365.635     16.736      0.000    2.02e+04    2.55e+04\n",
      "Dept_8[T.1]   3.713e+04   1365.635     27.186      0.000    3.44e+04    3.98e+04\n",
      "Dept_80[T.1]  1.156e+04   1397.061      8.272      0.000    8817.676    1.43e+04\n",
      "Dept_81[T.1]   1.39e+04   1365.635     10.181      0.000    1.12e+04    1.66e+04\n",
      "Dept_82[T.1]   1.59e+04   1365.635     11.640      0.000    1.32e+04    1.86e+04\n",
      "Dept_83[T.1]  3588.4037   1400.384      2.562      0.010     843.667    6333.141\n",
      "Dept_85[T.1]  1845.4836   1365.635      1.351      0.177    -831.146    4522.113\n",
      "Dept_87[T.1]  2.023e+04   1365.635     14.817      0.000    1.76e+04    2.29e+04\n",
      "Dept_9[T.1]    2.77e+04   1365.635     20.281      0.000     2.5e+04    3.04e+04\n",
      "Dept_90[T.1]  3.938e+04   1365.635     28.833      0.000    3.67e+04    4.21e+04\n",
      "Dept_91[T.1]  3.095e+04   1365.635     22.662      0.000    2.83e+04    3.36e+04\n",
      "Dept_92[T.1]  7.213e+04   1365.635     52.816      0.000    6.95e+04    7.48e+04\n",
      "Dept_93[T.1]  3.973e+04   1399.930     28.383      0.000     3.7e+04    4.25e+04\n",
      "Dept_94[T.1]  3.412e+04   1388.212     24.577      0.000    3.14e+04    3.68e+04\n",
      "Dept_95[T.1]  7.317e+04   1365.635     53.576      0.000    7.05e+04    7.58e+04\n",
      "Dept_96[T.1]  1.728e+04   1375.945     12.561      0.000    1.46e+04       2e+04\n",
      "Dept_97[T.1]  1.789e+04   1375.445     13.009      0.000    1.52e+04    2.06e+04\n",
      "Dept_98[T.1]  7592.4804   1396.739      5.436      0.000    4854.889    1.03e+04\n",
      "==============================================================================\n",
      "Omnibus:                    71167.635   Durbin-Watson:                   0.888\n",
      "Prob(Omnibus):                  0.000   Jarque-Bera (JB):          8893935.562\n",
      "Skew:                           2.695   Prob(JB):                         0.00\n",
      "Kurtosis:                      49.450   Cond. No.                         202.\n",
      "==============================================================================\n",
      "\n",
      "Warnings:\n",
      "[1] Standard Errors assume that the covariance matrix of the errors is correctly specified.\n",
      "                            OLS Regression Results                            \n",
      "==============================================================================\n",
      "Dep. Variable:           Weekly_Sales   R-squared:                       0.000\n",
      "Model:                            OLS   Adj. R-squared:                  0.000\n",
      "Method:                 Least Squares   F-statistic:                     21.34\n",
      "Date:                Thu, 20 Dec 2018   Prob (F-statistic):           3.86e-06\n",
      "Time:                        17:40:04   Log-Likelihood:            -1.1282e+06\n",
      "No. Observations:               97615   AIC:                         2.256e+06\n",
      "Df Residuals:                   97613   BIC:                         2.256e+06\n",
      "Df Model:                           1                                         \n",
      "Covariance Type:            nonrobust                                         \n",
      "=====================================================================================\n",
      "                        coef    std err          t      P>|t|      [0.025      0.975]\n",
      "-------------------------------------------------------------------------------------\n",
      "Intercept          1.716e+04     83.997    204.293      0.000     1.7e+04    1.73e+04\n",
      "IsHoliday[T.True]  1461.1823    316.324      4.619      0.000     841.191    2081.173\n",
      "==============================================================================\n",
      "Omnibus:                    72027.065   Durbin-Watson:                   1.139\n",
      "Prob(Omnibus):                  0.000   Jarque-Bera (JB):          2083239.187\n",
      "Skew:                           3.262   Prob(JB):                         0.00\n",
      "Kurtosis:                      24.671   Cond. No.                         3.93\n",
      "==============================================================================\n",
      "\n",
      "Warnings:\n",
      "[1] Standard Errors assume that the covariance matrix of the errors is correctly specified.\n",
      "                            OLS Regression Results                            \n",
      "==============================================================================\n",
      "Dep. Variable:           Weekly_Sales   R-squared:                       0.049\n",
      "Model:                            OLS   Adj. R-squared:                  0.049\n",
      "Method:                 Least Squares   F-statistic:                     5080.\n",
      "Date:                Thu, 20 Dec 2018   Prob (F-statistic):               0.00\n",
      "Time:                        17:40:04   Log-Likelihood:            -1.1257e+06\n",
      "No. Observations:               97615   AIC:                         2.251e+06\n",
      "Df Residuals:                   97613   BIC:                         2.251e+06\n",
      "Df Model:                           1                                         \n",
      "Covariance Type:            nonrobust                                         \n",
      "===============================================================================\n",
      "                  coef    std err          t      P>|t|      [0.025      0.975]\n",
      "-------------------------------------------------------------------------------\n",
      "Intercept     1.14e+04    113.995    100.033      0.000    1.12e+04    1.16e+04\n",
      "Type_A[T.1]  1.126e+04    158.052     71.272      0.000     1.1e+04    1.16e+04\n",
      "==============================================================================\n",
      "Omnibus:                    73335.994   Durbin-Watson:                   1.198\n",
      "Prob(Omnibus):                  0.000   Jarque-Bera (JB):          2451559.407\n",
      "Skew:                           3.297   Prob(JB):                         0.00\n",
      "Kurtosis:                      26.649   Cond. No.                         2.67\n",
      "==============================================================================\n",
      "\n",
      "Warnings:\n",
      "[1] Standard Errors assume that the covariance matrix of the errors is correctly specified.\n"
     ]
    }
   ],
   "source": [
    "stores= ['Store_1', 'Store_2', 'Store_3', 'Store_4', 'Store_5', 'Store_6', 'Store_7', 'Store_8', 'Store_9']\n",
    "dept = df.columns[17:95].astype(list)\n",
    "isholiday = ['IsHoliday']\n",
    "typecol = ['Type_A']\n",
    "\n",
    "collist = [stores, dept, isholiday, typecol]\n",
    "\n",
    "results = [['ind', 'rsquared', 'intercept', 'slope', 'pval']]\n",
    "\n",
    "for i, col in enumerate(collist):\n",
    "    combine = '+'.join(col)\n",
    "    f = \"Weekly_Sales~\" + combine\n",
    "    model = smf.ols(f, df).fit()\n",
    "    print(model.summary())\n"
   ]
  },
  {
   "cell_type": "code",
   "execution_count": 23,
   "metadata": {},
   "outputs": [
    {
     "name": "stdout",
     "output_type": "stream",
     "text": [
      "                            OLS Regression Results                            \n",
      "==============================================================================\n",
      "Dep. Variable:              Log_Sales   R-squared:                       0.128\n",
      "Model:                            OLS   Adj. R-squared:                  0.128\n",
      "Method:                 Least Squares   F-statistic:                     1591.\n",
      "Date:                Thu, 20 Dec 2018   Prob (F-statistic):               0.00\n",
      "Time:                        17:40:06   Log-Likelihood:            -1.9258e+05\n",
      "No. Observations:               97615   AIC:                         3.852e+05\n",
      "Df Residuals:                   97605   BIC:                         3.853e+05\n",
      "Df Model:                           9                                         \n",
      "Covariance Type:            nonrobust                                         \n",
      "================================================================================\n",
      "                   coef    std err          t      P>|t|      [0.025      0.975]\n",
      "--------------------------------------------------------------------------------\n",
      "Intercept        9.2319      0.017    537.401      0.000       9.198       9.266\n",
      "Store_1[T.1]    -0.1932      0.024     -7.946      0.000      -0.241      -0.146\n",
      "Store_2[T.1]     0.1073      0.024      4.411      0.000       0.060       0.155\n",
      "Store_3[T.1]    -1.5577      0.025    -62.032      0.000      -1.607      -1.508\n",
      "Store_4[T.1]     0.1612      0.024      6.638      0.000       0.114       0.209\n",
      "Store_5[T.1]    -1.6343      0.025    -64.988      0.000      -1.684      -1.585\n",
      "Store_6[T.1]     0.0029      0.024      0.120      0.904      -0.045       0.051\n",
      "Store_7[T.1]    -1.2038      0.025    -48.898      0.000      -1.252      -1.156\n",
      "Store_8[T.1]    -0.5704      0.025    -23.257      0.000      -0.618      -0.522\n",
      "Store_9[T.1]    -1.0649      0.025    -42.165      0.000      -1.114      -1.015\n",
      "==============================================================================\n",
      "Omnibus:                    28899.366   Durbin-Watson:                   1.536\n",
      "Prob(Omnibus):                  0.000   Jarque-Bera (JB):           101987.299\n",
      "Skew:                          -1.476   Prob(JB):                         0.00\n",
      "Kurtosis:                       7.045   Cond. No.                         10.7\n",
      "==============================================================================\n",
      "\n",
      "Warnings:\n",
      "[1] Standard Errors assume that the covariance matrix of the errors is correctly specified.\n",
      "                            OLS Regression Results                            \n",
      "==============================================================================\n",
      "Dep. Variable:              Log_Sales   R-squared:                       0.624\n",
      "Model:                            OLS   Adj. R-squared:                  0.624\n",
      "Method:                 Least Squares   F-statistic:                     2074.\n",
      "Date:                Thu, 20 Dec 2018   Prob (F-statistic):               0.00\n",
      "Time:                        17:40:06   Log-Likelihood:            -1.5153e+05\n",
      "No. Observations:               97615   AIC:                         3.032e+05\n",
      "Df Residuals:                   97536   BIC:                         3.040e+05\n",
      "Df Model:                          78                                         \n",
      "Covariance Type:            nonrobust                                         \n",
      "================================================================================\n",
      "                   coef    std err          t      P>|t|      [0.025      0.975]\n",
      "--------------------------------------------------------------------------------\n",
      "Intercept        3.5250      0.082     42.947      0.000       3.364       3.686\n",
      "Dept_1[T.1]      6.1872      0.087     70.738      0.000       6.016       6.359\n",
      "Dept_10[T.1]     6.5483      0.087     74.867      0.000       6.377       6.720\n",
      "Dept_11[T.1]     6.2272      0.087     71.195      0.000       6.056       6.399\n",
      "Dept_12[T.1]     5.1626      0.087     59.024      0.000       4.991       5.334\n",
      "Dept_13[T.1]     6.7177      0.087     76.803      0.000       6.546       6.889\n",
      "Dept_14[T.1]     5.9002      0.087     67.457      0.000       5.729       6.072\n",
      "Dept_16[T.1]     5.9452      0.087     67.971      0.000       5.774       6.117\n",
      "Dept_17[T.1]     5.4518      0.087     62.330      0.000       5.280       5.623\n",
      "Dept_18[T.1]     3.2716      0.089     36.700      0.000       3.097       3.446\n",
      "Dept_19[T.1]     3.6106      0.088     40.925      0.000       3.438       3.784\n",
      "Dept_2[T.1]      7.0202      0.087     80.261      0.000       6.849       7.192\n",
      "Dept_20[T.1]     4.8027      0.087     54.909      0.000       4.631       4.974\n",
      "Dept_21[T.1]     4.8653      0.087     55.625      0.000       4.694       5.037\n",
      "Dept_22[T.1]     5.4612      0.087     62.438      0.000       5.290       5.633\n",
      "Dept_23[T.1]     6.3335      0.087     72.411      0.000       6.162       6.505\n",
      "Dept_24[T.1]     4.8686      0.087     55.663      0.000       4.697       5.040\n",
      "Dept_25[T.1]     5.4723      0.087     62.565      0.000       5.301       5.644\n",
      "Dept_26[T.1]     5.1058      0.087     58.374      0.000       4.934       5.277\n",
      "Dept_27[T.1]     3.4421      0.087     39.353      0.000       3.271       3.613\n",
      "Dept_28[T.1]     2.4321      0.087     27.806      0.000       2.261       2.604\n",
      "Dept_29[T.1]     4.6629      0.087     53.311      0.000       4.491       4.834\n",
      "Dept_3[T.1]      5.6884      0.087     65.035      0.000       5.517       5.860\n",
      "Dept_30[T.1]     4.3979      0.087     50.281      0.000       4.226       4.569\n",
      "Dept_31[T.1]     3.9783      0.087     45.483      0.000       3.807       4.150\n",
      "Dept_32[T.1]     5.2895      0.087     60.472      0.000       5.118       5.461\n",
      "Dept_33[T.1]     4.9206      0.087     56.257      0.000       4.749       5.092\n",
      "Dept_34[T.1]     5.7016      0.087     65.186      0.000       5.530       5.873\n",
      "Dept_35[T.1]     4.1091      0.087     46.977      0.000       3.938       4.281\n",
      "Dept_36[T.1]     3.4955      0.087     39.956      0.000       3.324       3.667\n",
      "Dept_37[T.1]     4.6055      0.091     50.675      0.000       4.427       4.784\n",
      "Dept_38[T.1]     7.6361      0.087     87.303      0.000       7.465       7.808\n",
      "Dept_39[T.1]    -3.1953      0.518     -6.171      0.000      -4.210      -2.180\n",
      "Dept_4[T.1]      6.5681      0.087     75.093      0.000       6.397       6.740\n",
      "Dept_40[T.1]     7.1694      0.087     81.967      0.000       6.998       7.341\n",
      "Dept_41[T.1]     3.5359      0.087     40.425      0.000       3.364       3.707\n",
      "Dept_42[T.1]     5.2128      0.087     59.598      0.000       5.041       5.384\n",
      "Dept_44[T.1]     4.7871      0.087     54.730      0.000       4.616       4.958\n",
      "Dept_45[T.1]    -0.6790      0.096     -7.066      0.000      -0.867      -0.491\n",
      "Dept_46[T.1]     6.2029      0.087     70.918      0.000       6.031       6.374\n",
      "Dept_47[T.1]     0.6717      0.140      4.804      0.000       0.398       0.946\n",
      "Dept_48[T.1]     3.5379      0.091     38.834      0.000       3.359       3.716\n",
      "Dept_49[T.1]     4.2582      0.089     47.864      0.000       4.084       4.433\n",
      "Dept_5[T.1]      6.4041      0.087     73.218      0.000       6.233       6.576\n",
      "Dept_50[T.1]     4.8240      0.126     38.286      0.000       4.577       5.071\n",
      "Dept_51[T.1]    -1.4362      0.115    -12.497      0.000      -1.661      -1.211\n",
      "Dept_52[T.1]     4.0841      0.087     46.693      0.000       3.913       4.256\n",
      "Dept_54[T.1]     0.5819      0.088      6.586      0.000       0.409       0.755\n",
      "Dept_55[T.1]     5.6058      0.087     64.091      0.000       5.434       5.777\n",
      "Dept_56[T.1]     3.9199      0.087     44.810      0.000       3.748       4.091\n",
      "Dept_58[T.1]     4.4686      0.089     50.075      0.000       4.294       4.644\n",
      "Dept_59[T.1]     2.0382      0.088     23.157      0.000       1.866       2.211\n",
      "Dept_6[T.1]      4.7478      0.087     54.277      0.000       4.576       4.919\n",
      "Dept_60[T.1]     1.9082      0.088     21.688      0.000       1.736       2.081\n",
      "Dept_67[T.1]     5.1331      0.087     58.687      0.000       4.962       5.305\n",
      "Dept_7[T.1]      6.3196      0.087     72.252      0.000       6.148       6.491\n",
      "Dept_71[T.1]     4.3701      0.087     49.963      0.000       4.199       4.542\n",
      "Dept_72[T.1]     7.1710      0.087     81.986      0.000       7.000       7.342\n",
      "Dept_74[T.1]     5.7770      0.087     66.048      0.000       5.606       5.948\n",
      "Dept_77[T.1]     2.3249      0.239      9.738      0.000       1.857       2.793\n",
      "Dept_78[T.1]    -1.4447      0.191     -7.568      0.000      -1.819      -1.071\n",
      "Dept_79[T.1]     6.2467      0.087     71.418      0.000       6.075       6.418\n",
      "Dept_8[T.1]      6.7632      0.087     77.324      0.000       6.592       6.935\n",
      "Dept_80[T.1]     4.7921      0.089     53.555      0.000       4.617       4.967\n",
      "Dept_81[T.1]     5.5694      0.087     63.674      0.000       5.398       5.741\n",
      "Dept_82[T.1]     5.9775      0.087     68.341      0.000       5.806       6.149\n",
      "Dept_83[T.1]     4.2251      0.090     47.107      0.000       4.049       4.401\n",
      "Dept_85[T.1]     4.0244      0.087     46.011      0.000       3.853       4.196\n",
      "Dept_87[T.1]     6.0459      0.087     69.123      0.000       5.875       6.217\n",
      "Dept_9[T.1]      6.4500      0.087     73.742      0.000       6.279       6.621\n",
      "Dept_90[T.1]     6.2765      0.087     71.758      0.000       6.105       6.448\n",
      "Dept_91[T.1]     5.7453      0.087     65.685      0.000       5.574       5.917\n",
      "Dept_92[T.1]     7.1416      0.087     81.649      0.000       6.970       7.313\n",
      "Dept_93[T.1]     6.2598      0.090     69.815      0.000       6.084       6.436\n",
      "Dept_94[T.1]     5.0519      0.089     56.819      0.000       4.878       5.226\n",
      "Dept_95[T.1]     7.4049      0.087     84.660      0.000       7.234       7.576\n",
      "Dept_96[T.1]     5.6446      0.088     64.051      0.000       5.472       5.817\n",
      "Dept_97[T.1]     5.4253      0.088     61.585      0.000       5.253       5.598\n",
      "Dept_98[T.1]     4.2413      0.089     47.411      0.000       4.066       4.417\n",
      "==============================================================================\n",
      "Omnibus:                    33292.658   Durbin-Watson:                   0.998\n",
      "Prob(Omnibus):                  0.000   Jarque-Bera (JB):           249099.253\n",
      "Skew:                          -1.444   Prob(JB):                         0.00\n",
      "Kurtosis:                      10.274   Cond. No.                         202.\n",
      "==============================================================================\n",
      "\n",
      "Warnings:\n",
      "[1] Standard Errors assume that the covariance matrix of the errors is correctly specified.\n",
      "                            OLS Regression Results                            \n",
      "==============================================================================\n",
      "Dep. Variable:              Log_Sales   R-squared:                       0.000\n",
      "Model:                            OLS   Adj. R-squared:                  0.000\n",
      "Method:                 Least Squares   F-statistic:                     9.748\n",
      "Date:                Thu, 20 Dec 2018   Prob (F-statistic):            0.00180\n",
      "Time:                        17:40:06   Log-Likelihood:            -1.9925e+05\n",
      "No. Observations:               97615   AIC:                         3.985e+05\n",
      "Df Residuals:                   97613   BIC:                         3.985e+05\n",
      "Df Model:                           1                                         \n",
      "Covariance Type:            nonrobust                                         \n",
      "=====================================================================================\n",
      "                        coef    std err          t      P>|t|      [0.025      0.975]\n",
      "-------------------------------------------------------------------------------------\n",
      "Intercept             8.6665      0.006   1401.125      0.000       8.654       8.679\n",
      "IsHoliday[T.True]     0.0727      0.023      3.122      0.002       0.027       0.118\n",
      "==============================================================================\n",
      "Omnibus:                    21883.886   Durbin-Watson:                   1.340\n",
      "Prob(Omnibus):                  0.000   Jarque-Bera (JB):            56621.948\n",
      "Skew:                          -1.220   Prob(JB):                         0.00\n",
      "Kurtosis:                       5.822   Cond. No.                         3.93\n",
      "==============================================================================\n",
      "\n",
      "Warnings:\n",
      "[1] Standard Errors assume that the covariance matrix of the errors is correctly specified.\n",
      "                            OLS Regression Results                            \n",
      "==============================================================================\n",
      "Dep. Variable:              Log_Sales   R-squared:                       0.068\n",
      "Model:                            OLS   Adj. R-squared:                  0.068\n",
      "Method:                 Least Squares   F-statistic:                     7074.\n",
      "Date:                Thu, 20 Dec 2018   Prob (F-statistic):               0.00\n",
      "Time:                        17:40:06   Log-Likelihood:            -1.9584e+05\n",
      "No. Observations:               97615   AIC:                         3.917e+05\n",
      "Df Residuals:                   97613   BIC:                         3.917e+05\n",
      "Df Model:                           1                                         \n",
      "Covariance Type:            nonrobust                                         \n",
      "===============================================================================\n",
      "                  coef    std err          t      P>|t|      [0.025      0.975]\n",
      "-------------------------------------------------------------------------------\n",
      "Intercept       8.1673      0.008    982.410      0.000       8.151       8.184\n",
      "Type_A[T.1]     0.9695      0.012     84.106      0.000       0.947       0.992\n",
      "==============================================================================\n",
      "Omnibus:                    24208.178   Durbin-Watson:                   1.437\n",
      "Prob(Omnibus):                  0.000   Jarque-Bera (JB):            73067.927\n",
      "Skew:                          -1.285   Prob(JB):                         0.00\n",
      "Kurtosis:                       6.371   Cond. No.                         2.67\n",
      "==============================================================================\n",
      "\n",
      "Warnings:\n",
      "[1] Standard Errors assume that the covariance matrix of the errors is correctly specified.\n"
     ]
    }
   ],
   "source": [
    "stores= ['Store_1', 'Store_2', 'Store_3', 'Store_4', 'Store_5', 'Store_6', 'Store_7', 'Store_8', 'Store_9']\n",
    "dept = df.columns[17:95].astype(list)\n",
    "isholiday = ['IsHoliday']\n",
    "typecol = ['Type_A']\n",
    "\n",
    "collist = [stores, dept, isholiday, typecol]\n",
    "\n",
    "results = [['ind', 'rsquared', 'intercept', 'slope', 'pval']]\n",
    "\n",
    "for i, col in enumerate(collist):\n",
    "    combine = '+'.join(col)\n",
    "    f = \"Log_Sales~\" + combine\n",
    "    model = smf.ols(f, df).fit()\n",
    "    print(model.summary())"
   ]
  },
  {
   "cell_type": "markdown",
   "metadata": {},
   "source": [
    "## Let's drop a few columns in our data set based on our findings"
   ]
  },
  {
   "cell_type": "markdown",
   "metadata": {},
   "source": [
    "- Let's stick with our `walmart_log` data, as it seemed like it was generally resulting in higher R-squared values.\n",
    "- Let's drop continuous variables which resulted in single linear models with a R-squared value <0.01 for the `walmart_log models`.\n",
    "- Let's make sure to drop 1 column for each categorical variable we end up using."
   ]
  },
  {
   "cell_type": "code",
   "execution_count": 24,
   "metadata": {},
   "outputs": [],
   "source": [
    "df = df.drop(columns=['Temperature', 'Fuel_Price', 'Unemployment', 'Store_10', 'Type_B', 'IsHoliday', 'Weekly_Sales'])"
   ]
  },
  {
   "cell_type": "code",
   "execution_count": 43,
   "metadata": {},
   "outputs": [],
   "source": [
    "df2 = df[df.columns[:91]]\n",
    "df2 = df2.join(df.Log_Sales)"
   ]
  },
  {
   "cell_type": "code",
   "execution_count": 47,
   "metadata": {},
   "outputs": [
    {
     "data": {
      "text/html": [
       "<div>\n",
       "<style scoped>\n",
       "    .dataframe tbody tr th:only-of-type {\n",
       "        vertical-align: middle;\n",
       "    }\n",
       "\n",
       "    .dataframe tbody tr th {\n",
       "        vertical-align: top;\n",
       "    }\n",
       "\n",
       "    .dataframe thead th {\n",
       "        text-align: right;\n",
       "    }\n",
       "</style>\n",
       "<table border=\"1\" class=\"dataframe\">\n",
       "  <thead>\n",
       "    <tr style=\"text-align: right;\">\n",
       "      <th></th>\n",
       "      <th>Size</th>\n",
       "      <th>CPI</th>\n",
       "      <th>Store_1</th>\n",
       "      <th>Store_2</th>\n",
       "      <th>Store_3</th>\n",
       "      <th>Store_4</th>\n",
       "      <th>Store_5</th>\n",
       "      <th>Store_6</th>\n",
       "      <th>Store_7</th>\n",
       "      <th>Store_8</th>\n",
       "      <th>...</th>\n",
       "      <th>Dept_92</th>\n",
       "      <th>Dept_93</th>\n",
       "      <th>Dept_94</th>\n",
       "      <th>Dept_95</th>\n",
       "      <th>Dept_96</th>\n",
       "      <th>Dept_97</th>\n",
       "      <th>Dept_98</th>\n",
       "      <th>Dept_99</th>\n",
       "      <th>Type_A</th>\n",
       "      <th>Log_Sales</th>\n",
       "    </tr>\n",
       "  </thead>\n",
       "  <tbody>\n",
       "    <tr>\n",
       "      <th>0</th>\n",
       "      <td>0.283436</td>\n",
       "      <td>0.40349</td>\n",
       "      <td>1</td>\n",
       "      <td>0</td>\n",
       "      <td>0</td>\n",
       "      <td>0</td>\n",
       "      <td>0</td>\n",
       "      <td>0</td>\n",
       "      <td>0</td>\n",
       "      <td>0</td>\n",
       "      <td>...</td>\n",
       "      <td>0</td>\n",
       "      <td>0</td>\n",
       "      <td>0</td>\n",
       "      <td>0</td>\n",
       "      <td>0</td>\n",
       "      <td>0</td>\n",
       "      <td>0</td>\n",
       "      <td>0</td>\n",
       "      <td>1</td>\n",
       "      <td>10.123607</td>\n",
       "    </tr>\n",
       "    <tr>\n",
       "      <th>1</th>\n",
       "      <td>0.283436</td>\n",
       "      <td>0.40349</td>\n",
       "      <td>1</td>\n",
       "      <td>0</td>\n",
       "      <td>0</td>\n",
       "      <td>0</td>\n",
       "      <td>0</td>\n",
       "      <td>0</td>\n",
       "      <td>0</td>\n",
       "      <td>0</td>\n",
       "      <td>...</td>\n",
       "      <td>0</td>\n",
       "      <td>0</td>\n",
       "      <td>0</td>\n",
       "      <td>0</td>\n",
       "      <td>0</td>\n",
       "      <td>0</td>\n",
       "      <td>0</td>\n",
       "      <td>0</td>\n",
       "      <td>1</td>\n",
       "      <td>10.831811</td>\n",
       "    </tr>\n",
       "    <tr>\n",
       "      <th>2</th>\n",
       "      <td>0.283436</td>\n",
       "      <td>0.40349</td>\n",
       "      <td>1</td>\n",
       "      <td>0</td>\n",
       "      <td>0</td>\n",
       "      <td>0</td>\n",
       "      <td>0</td>\n",
       "      <td>0</td>\n",
       "      <td>0</td>\n",
       "      <td>0</td>\n",
       "      <td>...</td>\n",
       "      <td>0</td>\n",
       "      <td>0</td>\n",
       "      <td>0</td>\n",
       "      <td>0</td>\n",
       "      <td>0</td>\n",
       "      <td>0</td>\n",
       "      <td>0</td>\n",
       "      <td>0</td>\n",
       "      <td>1</td>\n",
       "      <td>9.528075</td>\n",
       "    </tr>\n",
       "    <tr>\n",
       "      <th>3</th>\n",
       "      <td>0.283436</td>\n",
       "      <td>0.40349</td>\n",
       "      <td>1</td>\n",
       "      <td>0</td>\n",
       "      <td>0</td>\n",
       "      <td>0</td>\n",
       "      <td>0</td>\n",
       "      <td>0</td>\n",
       "      <td>0</td>\n",
       "      <td>0</td>\n",
       "      <td>...</td>\n",
       "      <td>0</td>\n",
       "      <td>0</td>\n",
       "      <td>0</td>\n",
       "      <td>0</td>\n",
       "      <td>0</td>\n",
       "      <td>0</td>\n",
       "      <td>0</td>\n",
       "      <td>0</td>\n",
       "      <td>1</td>\n",
       "      <td>10.595485</td>\n",
       "    </tr>\n",
       "    <tr>\n",
       "      <th>4</th>\n",
       "      <td>0.283436</td>\n",
       "      <td>0.40349</td>\n",
       "      <td>1</td>\n",
       "      <td>0</td>\n",
       "      <td>0</td>\n",
       "      <td>0</td>\n",
       "      <td>0</td>\n",
       "      <td>0</td>\n",
       "      <td>0</td>\n",
       "      <td>0</td>\n",
       "      <td>...</td>\n",
       "      <td>0</td>\n",
       "      <td>0</td>\n",
       "      <td>0</td>\n",
       "      <td>0</td>\n",
       "      <td>0</td>\n",
       "      <td>0</td>\n",
       "      <td>0</td>\n",
       "      <td>0</td>\n",
       "      <td>1</td>\n",
       "      <td>10.380634</td>\n",
       "    </tr>\n",
       "  </tbody>\n",
       "</table>\n",
       "<p>5 rows × 92 columns</p>\n",
       "</div>"
      ],
      "text/plain": [
       "       Size      CPI Store_1 Store_2 Store_3 Store_4 Store_5 Store_6 Store_7  \\\n",
       "0  0.283436  0.40349       1       0       0       0       0       0       0   \n",
       "1  0.283436  0.40349       1       0       0       0       0       0       0   \n",
       "2  0.283436  0.40349       1       0       0       0       0       0       0   \n",
       "3  0.283436  0.40349       1       0       0       0       0       0       0   \n",
       "4  0.283436  0.40349       1       0       0       0       0       0       0   \n",
       "\n",
       "  Store_8    ...     Dept_92 Dept_93 Dept_94 Dept_95 Dept_96 Dept_97 Dept_98  \\\n",
       "0       0    ...           0       0       0       0       0       0       0   \n",
       "1       0    ...           0       0       0       0       0       0       0   \n",
       "2       0    ...           0       0       0       0       0       0       0   \n",
       "3       0    ...           0       0       0       0       0       0       0   \n",
       "4       0    ...           0       0       0       0       0       0       0   \n",
       "\n",
       "  Dept_99 Type_A  Log_Sales  \n",
       "0       0      1  10.123607  \n",
       "1       0      1  10.831811  \n",
       "2       0      1   9.528075  \n",
       "3       0      1  10.595485  \n",
       "4       0      1  10.380634  \n",
       "\n",
       "[5 rows x 92 columns]"
      ]
     },
     "execution_count": 47,
     "metadata": {},
     "output_type": "execute_result"
    }
   ],
   "source": [
    "df2.head()"
   ]
  },
  {
   "cell_type": "markdown",
   "metadata": {},
   "source": [
    "## From here on out, use Feature ranking with recursive feature elimination"
   ]
  },
  {
   "cell_type": "markdown",
   "metadata": {},
   "source": [
    "Let's create a matrix X and y containing the predictors and target for our model. Let's use Scikit-Learn's RFE function, documentation again [here](http://scikit-learn.org/stable/modules/classes.html#module-sklearn.feature_selection)."
   ]
  },
  {
   "cell_type": "code",
   "execution_count": 48,
   "metadata": {},
   "outputs": [],
   "source": [
    "X = df2.drop(columns='Log_Sales')\n",
    "y = df2.Log_Sales"
   ]
  },
  {
   "cell_type": "markdown",
   "metadata": {},
   "source": [
    "Let's create a for loop using `RFE` where we look at the 5, 15, 25,... up until 85 best features to be selected according to the feature ranking algorithm. Store the R-squared and the adjusted-R-squareds for all these models in a list. What do you see? No need to perform a train-test-split for now- that will be next!"
   ]
  },
  {
   "cell_type": "code",
   "execution_count": null,
   "metadata": {},
   "outputs": [],
   "source": []
  },
  {
   "cell_type": "code",
   "execution_count": 74,
   "metadata": {},
   "outputs": [
    {
     "name": "stdout",
     "output_type": "stream",
     "text": [
      "0.10678957626950347\n",
      "0.1059561098199534\n",
      "0.23150643218719247\n",
      "0.2307893406839474\n",
      "0.3291277287136435\n",
      "0.3285017289321862\n",
      "0.4068264586459333\n",
      "0.4062729605761116\n",
      "0.4627371312643156\n",
      "0.46223580418193555\n",
      "0.5152878503752147\n",
      "0.5148355590632591\n",
      "0.5702871349562342\n",
      "0.5698861642034991\n",
      "0.623492107026028\n",
      "0.6231407825357986\n",
      "0.71612653025721\n",
      "0.7158616441713985\n"
     ]
    }
   ],
   "source": [
    "from sklearn.feature_selection import RFE\n",
    "from sklearn.linear_model import LinearRegression\n",
    "linreg = LinearRegression()\n",
    "\n",
    "rsquared = []\n",
    "adjrsquared = []\n",
    "nrange = range(5, 86, 10)\n",
    "\n",
    "for n in nrange:\n",
    "    selectn = RFE(linreg, n_features_to_select=n)\n",
    "    selectn = selectn.fit(X, y)\n",
    "    columnstoselect = X.columns[selectn.support_]\n",
    "    linreg.fit(X[columnstoselect], y)\n",
    "    r_squared = linreg.score(X[columnstoselect], y)\n",
    "    print(r_squared)\n",
    "    rsquared.append(r_squared)\n",
    "    adjusted_r_squared = 1 - (1-r_squared)*(len(y)-1)/(len(y)-X.shape[1]-1)\n",
    "    print(adjusted_r_squared)\n",
    "    adjrsquared.append(adjusted_r_squared)"
   ]
  },
  {
   "cell_type": "code",
   "execution_count": 76,
   "metadata": {},
   "outputs": [
    {
     "data": {
      "text/plain": [
       "array([0.00083347, 0.00071709, 0.000626  , 0.0005535 , 0.00050133,\n",
       "       0.00045229, 0.00040097, 0.00035132, 0.00026489])"
      ]
     },
     "execution_count": 76,
     "metadata": {},
     "output_type": "execute_result"
    }
   ],
   "source": [
    "dif = np.array(rsquared) - np.array(adjrsquared)\n",
    "dif"
   ]
  },
  {
   "cell_type": "markdown",
   "metadata": {},
   "source": [
    "The difference between $R^2$ and adjusted $R^2$ is negligible, and seems to continue to be going up as we include more features. Remember though that we're likely overfitting when including 85 features. In order to identify this, let's rerun a similar experiment, but using a train test split!"
   ]
  },
  {
   "cell_type": "markdown",
   "metadata": {},
   "source": [
    "## Including a train-test-split"
   ]
  },
  {
   "cell_type": "markdown",
   "metadata": {},
   "source": [
    "Let's create a similar for loop to what we did before. Except, this time\n",
    "- Use a train test split of 20-80\n",
    "- Instead of looking at $R^2$ and $R^2_{adj}$, look at the MSE for train and test"
   ]
  },
  {
   "cell_type": "code",
   "execution_count": 77,
   "metadata": {},
   "outputs": [],
   "source": [
    "from sklearn.model_selection import train_test_split"
   ]
  },
  {
   "cell_type": "code",
   "execution_count": 80,
   "metadata": {},
   "outputs": [],
   "source": [
    "X_train, X_test, y_train, y_test = train_test_split(X, y, test_size= .2)"
   ]
  },
  {
   "cell_type": "code",
   "execution_count": 82,
   "metadata": {},
   "outputs": [],
   "source": [
    "msetrain = []\n",
    "msetest = []\n",
    "nrange = range(5, 86, 10)\n",
    "\n",
    "for n in nrange:\n",
    "    selectn = RFE(linreg, n_features_to_select=n)\n",
    "    selectn = selectn.fit(X_train, y_train)\n",
    "    columnstoselect = X_train.columns[selectn.support_]\n",
    "    linreg.fit(X_train[columnstoselect], y_train)\n",
    "    yhat_train = linreg.predict(X_train[columnstoselect])\n",
    "    squareerror = (np.array(yhat_train) - np.array(y_train))**2\n",
    "    mse = squareerror.mean()\n",
    "    msetrain.append(mse)\n",
    "    yhat_test = linreg.predict(X_test[columnstoselect])\n",
    "    squareerror = (np.array(yhat_test) - np.array(y_test))**2\n",
    "    mse = squareerror.mean()\n",
    "    msetest.append(mse)"
   ]
  },
  {
   "cell_type": "code",
   "execution_count": 83,
   "metadata": {},
   "outputs": [
    {
     "data": {
      "text/plain": [
       "[3.2054667812594895,\n",
       " 2.2562154359708564,\n",
       " 1.734958817747669,\n",
       " 1.4281423515621405,\n",
       " 1.2334120858366564,\n",
       " 1.1243951382589419,\n",
       " 1.0537114637599132,\n",
       " 1.0108122801137653,\n",
       " 0.9936093581910821]"
      ]
     },
     "execution_count": 83,
     "metadata": {},
     "output_type": "execute_result"
    }
   ],
   "source": [
    "msetrain"
   ]
  },
  {
   "cell_type": "code",
   "execution_count": 84,
   "metadata": {},
   "outputs": [
    {
     "data": {
      "text/plain": [
       "[3.1828020281125866,\n",
       " 2.212061324411113,\n",
       " 1.6817821163990763,\n",
       " 1.3627738598533623,\n",
       " 1.1869321352164703,\n",
       " 1.0813305542971072,\n",
       " 1.0123933642479648,\n",
       " 0.9719428986857697,\n",
       " 0.9549796107717171]"
      ]
     },
     "execution_count": 84,
     "metadata": {},
     "output_type": "execute_result"
    }
   ],
   "source": [
    "msetest"
   ]
  },
  {
   "cell_type": "markdown",
   "metadata": {},
   "source": [
    "What we see is that both MSE keeps improving when we add variables. It seems like a bigger model improves our performance, and the test and train performance don't really diverge. It is important to note however that is not an unusual result. The performance measures used typically will show this type of behavior. In order to really be able to balance the curse of dimensionality (which will become more important in machine learning), we need other information criteria such as AIC and BIC. You'll learn about them later! Now, let's perform cross-validation on our model with 85 predictors!"
   ]
  },
  {
   "cell_type": "markdown",
   "metadata": {},
   "source": [
    "## 10-fold cross validation with the final model"
   ]
  },
  {
   "cell_type": "markdown",
   "metadata": {},
   "source": [
    "Create a 10-fold cross-validation and store the (negative) MSEs "
   ]
  },
  {
   "cell_type": "code",
   "execution_count": 87,
   "metadata": {},
   "outputs": [
    {
     "data": {
      "text/plain": [
       "array([-0.76654024, -0.69664019, -1.44835722, -0.70074499, -1.30540411,\n",
       "       -0.54245975, -1.1061533 , -0.59732938, -0.99564528, -3.67992343])"
      ]
     },
     "execution_count": 87,
     "metadata": {},
     "output_type": "execute_result"
    }
   ],
   "source": [
    "from sklearn.metrics import mean_squared_error\n",
    "from sklearn.model_selection import cross_val_score\n",
    "\n",
    "selectn = RFE(linreg, n_features_to_select=85)\n",
    "selectn = selectn.fit(X, np.ravel(y))\n",
    "columnstoselect = X.columns[selectn.support_]\n",
    "\n",
    "cv10 = cross_val_score(linreg, X[columnstoselect], y, cv=10, scoring=\"neg_mean_squared_error\")\n",
    "\n",
    "cv10"
   ]
  },
  {
   "cell_type": "markdown",
   "metadata": {},
   "source": [
    "Running our 10-fold cross-validation highlights some issues for sure! Have a look at your list of 10 MSEs. Where most MSEs are manageable, some are very high. The cure of dimensionality is already pretty clear here. The issue is that we have many (dummy) categorical variables that result in columns with many zeroes and few ones. This means that for some folds, there is a risk of ending up with columns that almost exclusively contain 0's for prediction, which might cause weird results. Looking at this, a model with less predictors might make sense again. This is where we conclude for now. It's up to you now to explore other model options! Additionally, it is encouraged to try some of the \"level up\" exercises below. Good luck!"
   ]
  },
  {
   "cell_type": "markdown",
   "metadata": {},
   "source": [
    "# Level up - Optional\n",
    "\n",
    "\n",
    "- You could argue that **throwing out negative sales figures is problematic**, because these are probably the types of observations a stakeholder would be very interested in knowing. Repeat your analysis, but now, instead of removing the rows with negative sales, replace their sales with a slightly positive value (eg. 1), so they have an existing and finite value. Does the result change?\n",
    "\n",
    "- Go back and log-transform `CPI` and `Size` before standardizing it (we did this a few lessons ago). Look at the histogram and see if there is an improvement.\n",
    "- You might have noticed we ignored `binned_markdown` throughout. Add it in the model and see how it changes the results!\n",
    "\n",
    "- Try other feature selection methods such as stepwise selection and forward selection seen in section 11.\n"
   ]
  },
  {
   "cell_type": "markdown",
   "metadata": {},
   "source": [
    "## Summary"
   ]
  },
  {
   "cell_type": "markdown",
   "metadata": {},
   "source": [
    "Congratulations, you made it to the end of the last section in this module. Now it's time for a big project on multiple linear regression!"
   ]
  }
 ],
 "metadata": {
  "kernelspec": {
   "display_name": "Python 3",
   "language": "python",
   "name": "python3"
  },
  "language_info": {
   "codemirror_mode": {
    "name": "ipython",
    "version": 3
   },
   "file_extension": ".py",
   "mimetype": "text/x-python",
   "name": "python",
   "nbconvert_exporter": "python",
   "pygments_lexer": "ipython3",
   "version": "3.6.5"
  }
 },
 "nbformat": 4,
 "nbformat_minor": 2
}
